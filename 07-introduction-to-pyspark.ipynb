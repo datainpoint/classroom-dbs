{
 "cells": [
  {
   "cell_type": "markdown",
   "metadata": {
    "slideshow": {
     "slide_type": "slide"
    }
   },
   "source": [
    "# Python Data Science\n",
    "\n",
    "> Introduction to PySpark\n",
    "\n",
    "Kuo, Yao-Jen from [DATAINPOINT](https://www.datainpoint.com/)"
   ]
  },
  {
   "cell_type": "markdown",
   "metadata": {
    "slideshow": {
     "slide_type": "subslide"
    }
   },
   "source": [
    "## TL; DR\n",
    "\n",
    "> In this lecture, you'll learn how to use Spark from Python via PySpark."
   ]
  },
  {
   "cell_type": "markdown",
   "metadata": {
    "slideshow": {
     "slide_type": "slide"
    }
   },
   "source": [
    "## About Spark"
   ]
  },
  {
   "cell_type": "markdown",
   "metadata": {
    "slideshow": {
     "slide_type": "subslide"
    }
   },
   "source": [
    "## What is Spark?\n",
    "\n",
    "> Spark(Apache Spark) is a platform for **cluster computing**, which is written in Scala programming language. Spark spreads data and computations over clusters with multiple nodes (think of each node as a separate computer). \n",
    "\n",
    "Source: <http://spark.apache.org/>"
   ]
  },
  {
   "cell_type": "markdown",
   "metadata": {
    "slideshow": {
     "slide_type": "subslide"
    }
   },
   "source": [
    "## Why Spark?\n",
    "\n",
    "Splitting up data makes it easier to work with very large datasets because each node only works with a small amount of data. As each node works on its own subset of the total data. It is a fact that parallel computation can make certain types of programming tasks much faster."
   ]
  },
  {
   "cell_type": "markdown",
   "metadata": {
    "slideshow": {
     "slide_type": "subslide"
    }
   },
   "source": [
    "## How does Spark work?\n",
    "\n",
    "The cluster will be hosted on a remote machine. There will be one computer, called the **master** that manages splitting up the data and the computations. The master is connected to the rest of the computers in the cluster, which are called **worker**. The master sends the workers data and calculations to run, and they send their results back to the master."
   ]
  },
  {
   "cell_type": "markdown",
   "metadata": {
    "slideshow": {
     "slide_type": "subslide"
    }
   },
   "source": [
    "## Different language to interact with Spark\n",
    "\n",
    "- Scala.\n",
    "- Java.\n",
    "- Python.\n",
    "- R."
   ]
  },
  {
   "cell_type": "markdown",
   "metadata": {
    "slideshow": {
     "slide_type": "subslide"
    }
   },
   "source": [
    "## What is PySpark and why PySpark?\n",
    "\n",
    "> PySpark is the Python API to support Spark, which makes Python users easier to utilize Spark without learning another programming language: Scala."
   ]
  },
  {
   "cell_type": "markdown",
   "metadata": {
    "slideshow": {
     "slide_type": "subslide"
    }
   },
   "source": [
    "## The first step in using Spark in Python\n",
    "\n",
    "Connecting to a cluster using `SparkContext` class."
   ]
  },
  {
   "cell_type": "code",
   "execution_count": 1,
   "metadata": {
    "slideshow": {
     "slide_type": "-"
    }
   },
   "outputs": [],
   "source": [
    "from pyspark import SparkContext\n",
    "\n",
    "# Initialize SparkContext\n",
    "sc = SparkContext()"
   ]
  },
  {
   "cell_type": "code",
   "execution_count": 2,
   "metadata": {
    "slideshow": {
     "slide_type": "subslide"
    }
   },
   "outputs": [
    {
     "name": "stdout",
     "output_type": "stream",
     "text": [
      "<class 'pyspark.context.SparkContext'>\n",
      "3.0.0\n"
     ]
    }
   ],
   "source": [
    "# Verify SparkContext\n",
    "print(type(sc))\n",
    "\n",
    "# Print Spark version\n",
    "print(sc.version)"
   ]
  },
  {
   "cell_type": "markdown",
   "metadata": {
    "slideshow": {
     "slide_type": "subslide"
    }
   },
   "source": [
    "## Using Spark DataFrames on top of RDD\n",
    "\n",
    "- Spark's core data structure is the Resilient Distributed Dataset (RDD).\n",
    "- We'll be using the Spark DataFrame built on top of RDDs."
   ]
  },
  {
   "cell_type": "markdown",
   "metadata": {
    "slideshow": {
     "slide_type": "subslide"
    }
   },
   "source": [
    "## The first step in using Spark DataFrames\n",
    "\n",
    "- Create a `SparkSession`.\n",
    "- Think of the `SparkContext` as a connection to the cluster and the `SparkSession` as an interface."
   ]
  },
  {
   "cell_type": "code",
   "execution_count": 3,
   "metadata": {
    "slideshow": {
     "slide_type": "subslide"
    }
   },
   "outputs": [
    {
     "name": "stdout",
     "output_type": "stream",
     "text": [
      "<class 'pyspark.sql.session.SparkSession'>\n"
     ]
    }
   ],
   "source": [
    "from pyspark.sql import SparkSession\n",
    "\n",
    "spark = SparkSession.builder.getOrCreate()\n",
    "print(type(spark))"
   ]
  },
  {
   "cell_type": "markdown",
   "metadata": {
    "slideshow": {
     "slide_type": "subslide"
    }
   },
   "source": [
    "## Using `catalog.listTables` method of `SparkSession` to list all the data inside the cluster"
   ]
  },
  {
   "cell_type": "code",
   "execution_count": 4,
   "metadata": {},
   "outputs": [
    {
     "name": "stdout",
     "output_type": "stream",
     "text": [
      "0\n",
      "[]\n"
     ]
    }
   ],
   "source": [
    "# Print the tables in the catalog\n",
    "tables_in_spark = spark.catalog.listTables()\n",
    "print(len(tables_in_spark)) # An empty list indicates that there is no table inside the cluster\n",
    "print(tables_in_spark)"
   ]
  },
  {
   "cell_type": "markdown",
   "metadata": {
    "slideshow": {
     "slide_type": "slide"
    }
   },
   "source": [
    "## Data manipulation with PySpark"
   ]
  },
  {
   "cell_type": "markdown",
   "metadata": {
    "slideshow": {
     "slide_type": "subslide"
    }
   },
   "source": [
    "## The four basic functions of persistent storage\n",
    "\n",
    "- Create(C)\n",
    "- Read(R)\n",
    "- Update(U)\n",
    "- Delete(D)"
   ]
  },
  {
   "cell_type": "markdown",
   "metadata": {
    "slideshow": {
     "slide_type": "subslide"
    }
   },
   "source": [
    "## We can create a Spark DataFrame via\n",
    "\n",
    "- a list of tuples.\n",
    "- a tabular external file.\n",
    "- a `pandas` DataFrame."
   ]
  },
  {
   "cell_type": "markdown",
   "metadata": {
    "slideshow": {
     "slide_type": "subslide"
    }
   },
   "source": [
    "## Create a Spark DataFrame via a list of tuples"
   ]
  },
  {
   "cell_type": "code",
   "execution_count": 5,
   "metadata": {},
   "outputs": [
    {
     "name": "stdout",
     "output_type": "stream",
     "text": [
      "+--------------------+------------+-----------+\n",
      "|               title|release_year|imdb_rating|\n",
      "+--------------------+------------+-----------+\n",
      "|The Shawshank Red...|        1994|        9.2|\n",
      "|     The Dark Knight|        2008|        9.0|\n",
      "|    Schindler's List|        1993|        8.9|\n",
      "|        Forrest Gump|        1994|        8.8|\n",
      "+--------------------+------------+-----------+\n",
      "\n"
     ]
    }
   ],
   "source": [
    "columns = [\"title\", \"release_year\", \"imdb_rating\"]\n",
    "rows = [\n",
    "    (\"The Shawshank Redemption\", 1994, 9.2),\n",
    "    (\"The Dark Knight\", 2008, 9.0),\n",
    "    (\"Schindler's List\", 1993, 8.9),\n",
    "    (\"Forrest Gump\", 1994, 8.8)\n",
    "]\n",
    "movies_from_list = spark.createDataFrame(rows).toDF(*columns)\n",
    "movies_from_list.show()"
   ]
  },
  {
   "cell_type": "markdown",
   "metadata": {
    "slideshow": {
     "slide_type": "subslide"
    }
   },
   "source": [
    "## Why is there still no table?"
   ]
  },
  {
   "cell_type": "code",
   "execution_count": 6,
   "metadata": {
    "slideshow": {
     "slide_type": "-"
    }
   },
   "outputs": [
    {
     "name": "stdout",
     "output_type": "stream",
     "text": [
      "<class 'pyspark.sql.dataframe.DataFrame'>\n",
      "0\n"
     ]
    }
   ],
   "source": [
    "print(type(movies_from_list))\n",
    "tables_in_spark = spark.catalog.listTables()\n",
    "print(len(tables_in_spark))"
   ]
  },
  {
   "cell_type": "markdown",
   "metadata": {
    "slideshow": {
     "slide_type": "subslide"
    }
   },
   "source": [
    "## We need to REGISTER the table with the cluster"
   ]
  },
  {
   "cell_type": "code",
   "execution_count": 7,
   "metadata": {},
   "outputs": [
    {
     "name": "stdout",
     "output_type": "stream",
     "text": [
      "1\n",
      "[Table(name='movies_from_list', database=None, description=None, tableType='TEMPORARY', isTemporary=True)]\n"
     ]
    }
   ],
   "source": [
    "movies_from_list.createOrReplaceTempView('movies_from_list')\n",
    "tables_in_spark = spark.catalog.listTables()\n",
    "print(len(tables_in_spark))\n",
    "print(tables_in_spark)"
   ]
  },
  {
   "cell_type": "markdown",
   "metadata": {
    "slideshow": {
     "slide_type": "subslide"
    }
   },
   "source": [
    "## Create a Spark DataFrame via a tabular external file"
   ]
  },
  {
   "cell_type": "code",
   "execution_count": 8,
   "metadata": {},
   "outputs": [
    {
     "name": "stdout",
     "output_type": "stream",
     "text": [
      "+--------------------+------------+-----------+\n",
      "|               title|release_year|imdb_rating|\n",
      "+--------------------+------------+-----------+\n",
      "|The Shawshank Red...|        1994|        9.2|\n",
      "|       The Godfather|        1972|        9.1|\n",
      "|The Godfather: Pa...|        1974|        9.0|\n",
      "|     The Dark Knight|        2008|        9.0|\n",
      "|        12 Angry Men|        1957|        8.9|\n",
      "+--------------------+------------+-----------+\n",
      "only showing top 5 rows\n",
      "\n"
     ]
    }
   ],
   "source": [
    "movies_from_csv = spark.read.csv('imdb_top_rated.csv', header=True, inferSchema=True)\n",
    "movies_from_csv.show(5)"
   ]
  },
  {
   "cell_type": "code",
   "execution_count": 9,
   "metadata": {},
   "outputs": [
    {
     "name": "stdout",
     "output_type": "stream",
     "text": [
      "2\n",
      "[Table(name='movies_from_csv', database=None, description=None, tableType='TEMPORARY', isTemporary=True), Table(name='movies_from_list', database=None, description=None, tableType='TEMPORARY', isTemporary=True)]\n"
     ]
    }
   ],
   "source": [
    "movies_from_csv.createOrReplaceTempView('movies_from_csv')\n",
    "tables_in_spark = spark.catalog.listTables()\n",
    "print(len(tables_in_spark))\n",
    "print(tables_in_spark)"
   ]
  },
  {
   "cell_type": "markdown",
   "metadata": {
    "slideshow": {
     "slide_type": "subslide"
    }
   },
   "source": [
    "## Create a Spark DataFrame via a `pandas` DataFrame"
   ]
  },
  {
   "cell_type": "code",
   "execution_count": 10,
   "metadata": {},
   "outputs": [
    {
     "name": "stdout",
     "output_type": "stream",
     "text": [
      "<class 'pandas.core.frame.DataFrame'>\n"
     ]
    }
   ],
   "source": [
    "import pandas as pd\n",
    "\n",
    "list_of_dicts = [\n",
    "    {\"title\": \"The Shawshank Redemption\", \"release_year\": 1994, \"imdb_rating\": 9.2},\n",
    "    {\"title\": \"The Dark Knight\", \"release_year\": 2008, \"imdb_rating\": 9.0},\n",
    "    {\"title\": \"Schindler's List\", \"release_year\": 1993, \"imdb_rating\": 8.9},\n",
    "    {\"title\": \"Forrest Gump\", \"release_year\": 1994, \"imdb_rating\": 8.8}\n",
    "]\n",
    "pandas_df = pd.DataFrame(list_of_dicts)\n",
    "print(type(pandas_df))"
   ]
  },
  {
   "cell_type": "code",
   "execution_count": 11,
   "metadata": {
    "slideshow": {
     "slide_type": "subslide"
    }
   },
   "outputs": [
    {
     "name": "stdout",
     "output_type": "stream",
     "text": [
      "+--------------------+------------+-----------+\n",
      "|               title|release_year|imdb_rating|\n",
      "+--------------------+------------+-----------+\n",
      "|The Shawshank Red...|        1994|        9.2|\n",
      "|     The Dark Knight|        2008|        9.0|\n",
      "|    Schindler's List|        1993|        8.9|\n",
      "|        Forrest Gump|        1994|        8.8|\n",
      "+--------------------+------------+-----------+\n",
      "\n"
     ]
    }
   ],
   "source": [
    "movies_from_pddf = spark.createDataFrame(pandas_df)\n",
    "movies_from_pddf.show()"
   ]
  },
  {
   "cell_type": "markdown",
   "metadata": {
    "slideshow": {
     "slide_type": "subslide"
    }
   },
   "source": [
    "## We can update a Spark DataFrame via\n",
    "\n",
    "- inserting new records.\n",
    "- modifying existed records."
   ]
  },
  {
   "cell_type": "code",
   "execution_count": 12,
   "metadata": {},
   "outputs": [
    {
     "name": "stdout",
     "output_type": "stream",
     "text": [
      "+--------------------+------------+-----------+\n",
      "|               title|release_year|imdb_rating|\n",
      "+--------------------+------------+-----------+\n",
      "|The Shawshank Red...|        1994|        9.2|\n",
      "|     The Dark Knight|        2008|        9.0|\n",
      "|    Schindler's List|        1993|        8.9|\n",
      "|        Forrest Gump|        1994|        8.8|\n",
      "+--------------------+------------+-----------+\n",
      "\n"
     ]
    }
   ],
   "source": [
    "movies_from_pddf.show()"
   ]
  },
  {
   "cell_type": "markdown",
   "metadata": {
    "slideshow": {
     "slide_type": "subslide"
    }
   },
   "source": [
    "## We can update a Spark DataFrame via\n",
    "\n",
    "- inserting new records.\n",
    "- modifying existed records."
   ]
  },
  {
   "cell_type": "markdown",
   "metadata": {
    "slideshow": {
     "slide_type": "subslide"
    }
   },
   "source": [
    "## Inserting new records with `union`"
   ]
  },
  {
   "cell_type": "code",
   "execution_count": 13,
   "metadata": {},
   "outputs": [
    {
     "name": "stdout",
     "output_type": "stream",
     "text": [
      "+--------------------+------------+-----------+\n",
      "|               title|release_year|imdb_rating|\n",
      "+--------------------+------------+-----------+\n",
      "|The Shawshank Red...|        1994|        9.2|\n",
      "|     The Dark Knight|        2008|        9.0|\n",
      "|    Schindler's List|        1993|        8.9|\n",
      "|        Forrest Gump|        1994|        8.8|\n",
      "|           Inception|        2010|        8.7|\n",
      "+--------------------+------------+-----------+\n",
      "\n"
     ]
    }
   ],
   "source": [
    "columns = [\"title\", \"release_year\", \"imdb_rating\"]\n",
    "rows = [\n",
    "    (\"Inception\", 2010, 8.7)\n",
    "]\n",
    "inception = spark.createDataFrame(rows).toDF(*columns)\n",
    "movies_from_pddf = movies_from_pddf.union(inception)\n",
    "movies_from_pddf.show()"
   ]
  },
  {
   "cell_type": "markdown",
   "metadata": {
    "slideshow": {
     "slide_type": "subslide"
    }
   },
   "source": [
    "## Modifying existed records with `sql.functions`"
   ]
  },
  {
   "cell_type": "code",
   "execution_count": 14,
   "metadata": {},
   "outputs": [
    {
     "name": "stdout",
     "output_type": "stream",
     "text": [
      "+----------------+------------+-----------+\n",
      "|           title|release_year|imdb_rating|\n",
      "+----------------+------------+-----------+\n",
      "|        刺激1995|        1994|        9.2|\n",
      "| The Dark Knight|        2008|        9.0|\n",
      "|Schindler's List|        1993|        8.9|\n",
      "|    Forrest Gump|        1994|        8.8|\n",
      "|       Inception|        2010|        8.7|\n",
      "+----------------+------------+-----------+\n",
      "\n"
     ]
    }
   ],
   "source": [
    "from pyspark.sql import functions as funcs\n",
    "\n",
    "movies_from_pddf = movies_from_pddf.withColumn(\"title\", funcs.when(funcs.col(\"title\")=='The Shawshank Redemption', '刺激1995').otherwise(funcs.col(\"title\")))\n",
    "movies_from_pddf.show()"
   ]
  },
  {
   "cell_type": "markdown",
   "metadata": {
    "slideshow": {
     "slide_type": "subslide"
    }
   },
   "source": [
    "## We can operate deletion on a Spark DataFrame via\n",
    "\n",
    "- removing existed records.\n",
    "- removing existed columns.\n",
    "- dropping an entire Spark DataFrame from a cluster."
   ]
  },
  {
   "cell_type": "markdown",
   "metadata": {
    "slideshow": {
     "slide_type": "subslide"
    }
   },
   "source": [
    "## Removing existed records with `where`"
   ]
  },
  {
   "cell_type": "code",
   "execution_count": 15,
   "metadata": {},
   "outputs": [
    {
     "name": "stdout",
     "output_type": "stream",
     "text": [
      "+----------------+------------+-----------+\n",
      "|           title|release_year|imdb_rating|\n",
      "+----------------+------------+-----------+\n",
      "| The Dark Knight|        2008|        9.0|\n",
      "|Schindler's List|        1993|        8.9|\n",
      "|    Forrest Gump|        1994|        8.8|\n",
      "|       Inception|        2010|        8.7|\n",
      "+----------------+------------+-----------+\n",
      "\n"
     ]
    }
   ],
   "source": [
    "condition = \"\"\"\n",
    "title != '刺激1995'\n",
    "\"\"\"\n",
    "movies_from_pddf = movies_from_pddf.where(condition)\n",
    "movies_from_pddf.show()"
   ]
  },
  {
   "cell_type": "markdown",
   "metadata": {
    "slideshow": {
     "slide_type": "subslide"
    }
   },
   "source": [
    "## Removing existed columns with `drop`"
   ]
  },
  {
   "cell_type": "code",
   "execution_count": 16,
   "metadata": {},
   "outputs": [
    {
     "name": "stdout",
     "output_type": "stream",
     "text": [
      "+----------------+\n",
      "|           title|\n",
      "+----------------+\n",
      "| The Dark Knight|\n",
      "|Schindler's List|\n",
      "|    Forrest Gump|\n",
      "|       Inception|\n",
      "+----------------+\n",
      "\n"
     ]
    }
   ],
   "source": [
    "columns_to_drop = ['release_year', 'imdb_rating']\n",
    "movies_from_pddf = movies_from_pddf.drop(*columns_to_drop)\n",
    "movies_from_pddf.show()"
   ]
  },
  {
   "cell_type": "markdown",
   "metadata": {
    "slideshow": {
     "slide_type": "subslide"
    }
   },
   "source": [
    "## Dropping an entire Spark DataFrame"
   ]
  },
  {
   "cell_type": "code",
   "execution_count": 17,
   "metadata": {},
   "outputs": [
    {
     "name": "stdout",
     "output_type": "stream",
     "text": [
      "2\n",
      "[Table(name='movies_from_csv', database=None, description=None, tableType='TEMPORARY', isTemporary=True), Table(name='movies_from_list', database=None, description=None, tableType='TEMPORARY', isTemporary=True)]\n"
     ]
    }
   ],
   "source": [
    "spark.catalog.dropTempView(\"movies_from_pddf\")\n",
    "tables_in_spark = spark.catalog.listTables()\n",
    "print(len(tables_in_spark))\n",
    "print(tables_in_spark)"
   ]
  },
  {
   "cell_type": "markdown",
   "metadata": {
    "slideshow": {
     "slide_type": "slide"
    }
   },
   "source": [
    "## Basic attributes or methods of a Spark `DataFrame`"
   ]
  },
  {
   "cell_type": "markdown",
   "metadata": {
    "slideshow": {
     "slide_type": "subslide"
    }
   },
   "source": [
    "## Check data types of each column via `dtypes`"
   ]
  },
  {
   "cell_type": "code",
   "execution_count": 18,
   "metadata": {},
   "outputs": [
    {
     "data": {
      "text/plain": [
       "[('title', 'string'), ('release_year', 'int'), ('imdb_rating', 'double')]"
      ]
     },
     "execution_count": 18,
     "metadata": {},
     "output_type": "execute_result"
    }
   ],
   "source": [
    "movies_from_csv.dtypes"
   ]
  },
  {
   "cell_type": "markdown",
   "metadata": {
    "slideshow": {
     "slide_type": "subslide"
    }
   },
   "source": [
    "## Find the shape `(m, n)` via\n",
    "\n",
    "- `len(df.dtypes)` for number of columns.\n",
    "- `count()` for number of rows."
   ]
  },
  {
   "cell_type": "code",
   "execution_count": 19,
   "metadata": {
    "slideshow": {
     "slide_type": "-"
    }
   },
   "outputs": [
    {
     "name": "stdout",
     "output_type": "stream",
     "text": [
      "Shape: (250, 3)\n"
     ]
    }
   ],
   "source": [
    "m = movies_from_csv.count()\n",
    "n = len(movies_from_csv.dtypes)\n",
    "print(\"Shape: ({}, {})\".format(m, n))"
   ]
  },
  {
   "cell_type": "markdown",
   "metadata": {
    "slideshow": {
     "slide_type": "subslide"
    }
   },
   "source": [
    "## Find column names of a Spark DataFrame via `schema.names`"
   ]
  },
  {
   "cell_type": "code",
   "execution_count": 20,
   "metadata": {},
   "outputs": [
    {
     "name": "stdout",
     "output_type": "stream",
     "text": [
      "['title', 'release_year', 'imdb_rating']\n"
     ]
    }
   ],
   "source": [
    "print(movies_from_csv.schema.names)"
   ]
  },
  {
   "cell_type": "markdown",
   "metadata": {
    "slideshow": {
     "slide_type": "subslide"
    }
   },
   "source": [
    "## Show the first `n` observations via\n",
    "\n",
    "- `show(n)`\n",
    "- `head(n)`"
   ]
  },
  {
   "cell_type": "code",
   "execution_count": 21,
   "metadata": {},
   "outputs": [
    {
     "name": "stdout",
     "output_type": "stream",
     "text": [
      "+--------------------+------------+-----------+\n",
      "|               title|release_year|imdb_rating|\n",
      "+--------------------+------------+-----------+\n",
      "|The Shawshank Red...|        1994|        9.2|\n",
      "|       The Godfather|        1972|        9.1|\n",
      "|The Godfather: Pa...|        1974|        9.0|\n",
      "|     The Dark Knight|        2008|        9.0|\n",
      "|        12 Angry Men|        1957|        8.9|\n",
      "+--------------------+------------+-----------+\n",
      "only showing top 5 rows\n",
      "\n"
     ]
    }
   ],
   "source": [
    "movies_from_csv.show(5)"
   ]
  },
  {
   "cell_type": "code",
   "execution_count": 22,
   "metadata": {
    "slideshow": {
     "slide_type": "subslide"
    }
   },
   "outputs": [
    {
     "data": {
      "text/plain": [
       "[Row(title='The Shawshank Redemption', release_year=1994, imdb_rating=9.2),\n",
       " Row(title='The Godfather', release_year=1972, imdb_rating=9.1),\n",
       " Row(title='The Godfather: Part II', release_year=1974, imdb_rating=9.0),\n",
       " Row(title='The Dark Knight', release_year=2008, imdb_rating=9.0),\n",
       " Row(title='12 Angry Men', release_year=1957, imdb_rating=8.9)]"
      ]
     },
     "execution_count": 22,
     "metadata": {},
     "output_type": "execute_result"
    }
   ],
   "source": [
    "movies_from_csv.head(5)"
   ]
  },
  {
   "cell_type": "markdown",
   "metadata": {
    "slideshow": {
     "slide_type": "subslide"
    }
   },
   "source": [
    "## Show the last `n` observations via `tail(n)`"
   ]
  },
  {
   "cell_type": "code",
   "execution_count": 23,
   "metadata": {},
   "outputs": [
    {
     "data": {
      "text/plain": [
       "[Row(title='The Battle of Algiers', release_year=1966, imdb_rating=8.0),\n",
       " Row(title='The Terminator', release_year=1984, imdb_rating=8.0),\n",
       " Row(title='Aladdin', release_year=1992, imdb_rating=8.0),\n",
       " Row(title='A Silent Voice: The Movie', release_year=2016, imdb_rating=8.0),\n",
       " Row(title='Tangerines', release_year=2013, imdb_rating=8.0)]"
      ]
     },
     "execution_count": 23,
     "metadata": {},
     "output_type": "execute_result"
    }
   ],
   "source": [
    "movies_from_csv.tail(5)"
   ]
  },
  {
   "cell_type": "markdown",
   "metadata": {
    "slideshow": {
     "slide_type": "subslide"
    }
   },
   "source": [
    "## Show the summary via `summary().show()`"
   ]
  },
  {
   "cell_type": "code",
   "execution_count": 24,
   "metadata": {},
   "outputs": [
    {
     "name": "stdout",
     "output_type": "stream",
     "text": [
      "+-------+------------+------------------+-------------------+\n",
      "|summary|       title|      release_year|        imdb_rating|\n",
      "+-------+------------+------------------+-------------------+\n",
      "|  count|         250|               250|                250|\n",
      "|   mean|      1917.0|          1986.968|  8.256399999999973|\n",
      "| stddev|         NaN|25.019489912906025|0.23002322215576926|\n",
      "|    min|12 Angry Men|              1921|                8.0|\n",
      "|    25%|      1917.0|              1968|                8.1|\n",
      "|    50%|      1917.0|              1994|                8.2|\n",
      "|    75%|      1917.0|              2007|                8.4|\n",
      "|    max|  Your Name.|              2020|                9.2|\n",
      "+-------+------------+------------------+-------------------+\n",
      "\n"
     ]
    }
   ],
   "source": [
    "movies_from_csv.summary().show()"
   ]
  },
  {
   "cell_type": "markdown",
   "metadata": {
    "slideshow": {
     "slide_type": "subslide"
    }
   },
   "source": [
    "## Select a column from a Spark DataFrame via `select`"
   ]
  },
  {
   "cell_type": "code",
   "execution_count": 25,
   "metadata": {},
   "outputs": [
    {
     "name": "stdout",
     "output_type": "stream",
     "text": [
      "+--------------------+\n",
      "|               title|\n",
      "+--------------------+\n",
      "|The Shawshank Red...|\n",
      "|       The Godfather|\n",
      "|The Godfather: Pa...|\n",
      "|     The Dark Knight|\n",
      "|        12 Angry Men|\n",
      "+--------------------+\n",
      "only showing top 5 rows\n",
      "\n"
     ]
    }
   ],
   "source": [
    "movies_from_csv.select(\"title\").show(5)"
   ]
  },
  {
   "cell_type": "markdown",
   "metadata": {
    "slideshow": {
     "slide_type": "subslide"
    }
   },
   "source": [
    "## Select multiple columns from a Spark DataFrame via `select`"
   ]
  },
  {
   "cell_type": "code",
   "execution_count": 26,
   "metadata": {},
   "outputs": [
    {
     "name": "stdout",
     "output_type": "stream",
     "text": [
      "+--------------------+-----------+\n",
      "|               title|imdb_rating|\n",
      "+--------------------+-----------+\n",
      "|The Shawshank Red...|        9.2|\n",
      "|       The Godfather|        9.1|\n",
      "|The Godfather: Pa...|        9.0|\n",
      "|     The Dark Knight|        9.0|\n",
      "|        12 Angry Men|        8.9|\n",
      "+--------------------+-----------+\n",
      "only showing top 5 rows\n",
      "\n"
     ]
    }
   ],
   "source": [
    "movies_from_csv.select(\"title\", \"imdb_rating\").show(5)"
   ]
  },
  {
   "cell_type": "markdown",
   "metadata": {
    "slideshow": {
     "slide_type": "subslide"
    }
   },
   "source": [
    "## Select multiple columns from a Spark DataFrame with the same syntax as in pandas"
   ]
  },
  {
   "cell_type": "code",
   "execution_count": 27,
   "metadata": {},
   "outputs": [
    {
     "name": "stdout",
     "output_type": "stream",
     "text": [
      "+--------------------+-----------+\n",
      "|               title|imdb_rating|\n",
      "+--------------------+-----------+\n",
      "|The Shawshank Red...|        9.2|\n",
      "|       The Godfather|        9.1|\n",
      "|The Godfather: Pa...|        9.0|\n",
      "|     The Dark Knight|        9.0|\n",
      "|        12 Angry Men|        8.9|\n",
      "+--------------------+-----------+\n",
      "only showing top 5 rows\n",
      "\n"
     ]
    }
   ],
   "source": [
    "movies_from_csv[[\"title\", \"imdb_rating\"]].show(5)"
   ]
  },
  {
   "cell_type": "markdown",
   "metadata": {
    "slideshow": {
     "slide_type": "subslide"
    }
   },
   "source": [
    "## Filter row(s) from a Spark DataFrame via `filter`"
   ]
  },
  {
   "cell_type": "code",
   "execution_count": 28,
   "metadata": {},
   "outputs": [
    {
     "name": "stdout",
     "output_type": "stream",
     "text": [
      "+--------------------+------------+-----------+\n",
      "|               title|release_year|imdb_rating|\n",
      "+--------------------+------------+-----------+\n",
      "|The Shawshank Red...|        1994|        9.2|\n",
      "|       The Godfather|        1972|        9.1|\n",
      "|The Godfather: Pa...|        1974|        9.0|\n",
      "|     The Dark Knight|        2008|        9.0|\n",
      "+--------------------+------------+-----------+\n",
      "\n"
     ]
    }
   ],
   "source": [
    "movies_from_csv.filter(movies_from_csv.imdb_rating >= 9).show()"
   ]
  },
  {
   "cell_type": "markdown",
   "metadata": {
    "slideshow": {
     "slide_type": "subslide"
    }
   },
   "source": [
    "## Filter row(s) from a Spark DataFrame via `filter` with more than one condition"
   ]
  },
  {
   "cell_type": "code",
   "execution_count": 29,
   "metadata": {},
   "outputs": [
    {
     "name": "stdout",
     "output_type": "stream",
     "text": [
      "+---------------+------------+-----------+\n",
      "|          title|release_year|imdb_rating|\n",
      "+---------------+------------+-----------+\n",
      "|The Dark Knight|        2008|        9.0|\n",
      "+---------------+------------+-----------+\n",
      "\n"
     ]
    }
   ],
   "source": [
    "condition_1 = movies_from_csv.imdb_rating >= 9\n",
    "condition_2 = movies_from_csv.release_year >= 2000\n",
    "movies_from_csv.filter(condition_1 & condition_2).show()"
   ]
  },
  {
   "cell_type": "markdown",
   "metadata": {
    "slideshow": {
     "slide_type": "subslide"
    }
   },
   "source": [
    "## Filter row(s) from a Spark DataFrame with the same syntax as in pandas"
   ]
  },
  {
   "cell_type": "code",
   "execution_count": 30,
   "metadata": {},
   "outputs": [
    {
     "name": "stdout",
     "output_type": "stream",
     "text": [
      "+---------------+------------+-----------+\n",
      "|          title|release_year|imdb_rating|\n",
      "+---------------+------------+-----------+\n",
      "|The Dark Knight|        2008|        9.0|\n",
      "+---------------+------------+-----------+\n",
      "\n"
     ]
    }
   ],
   "source": [
    "condition_1 = movies_from_csv.imdb_rating >= 9\n",
    "condition_2 = movies_from_csv.release_year >= 2000\n",
    "movies_from_csv[condition_1 & condition_2].show()"
   ]
  },
  {
   "cell_type": "markdown",
   "metadata": {
    "slideshow": {
     "slide_type": "subslide"
    }
   },
   "source": [
    "## Sort a Spark DataFrame via `sort`"
   ]
  },
  {
   "cell_type": "code",
   "execution_count": 31,
   "metadata": {},
   "outputs": [
    {
     "name": "stdout",
     "output_type": "stream",
     "text": [
      "+-------------+------------+-----------+\n",
      "|        title|release_year|imdb_rating|\n",
      "+-------------+------------+-----------+\n",
      "|      The Kid|        1921|        8.2|\n",
      "| Sherlock Jr.|        1924|        8.1|\n",
      "|The Gold Rush|        1925|        8.1|\n",
      "|  The General|        1926|        8.1|\n",
      "|   Metropolis|        1927|        8.2|\n",
      "+-------------+------------+-----------+\n",
      "only showing top 5 rows\n",
      "\n"
     ]
    }
   ],
   "source": [
    "movies_from_csv.sort(\"release_year\").show(5)"
   ]
  },
  {
   "cell_type": "markdown",
   "metadata": {
    "slideshow": {
     "slide_type": "subslide"
    }
   },
   "source": [
    "## Sort a Spark DataFrame via `sort` with descending order"
   ]
  },
  {
   "cell_type": "code",
   "execution_count": 32,
   "metadata": {},
   "outputs": [
    {
     "name": "stdout",
     "output_type": "stream",
     "text": [
      "+-----------------+------------+-----------+\n",
      "|            title|release_year|imdb_rating|\n",
      "+-----------------+------------+-----------+\n",
      "|         Hamilton|        2020|        8.5|\n",
      "|            Joker|        2019|        8.4|\n",
      "|             1917|        2019|        8.3|\n",
      "|         Parasite|        2019|        8.5|\n",
      "|Avengers: Endgame|        2019|        8.3|\n",
      "+-----------------+------------+-----------+\n",
      "only showing top 5 rows\n",
      "\n"
     ]
    }
   ],
   "source": [
    "movies_from_csv.sort(\"release_year\", ascending=False).show(5)"
   ]
  },
  {
   "cell_type": "markdown",
   "metadata": {
    "slideshow": {
     "slide_type": "subslide"
    }
   },
   "source": [
    "## Create a new column with a Spark DataFrame via `withColumn`"
   ]
  },
  {
   "cell_type": "code",
   "execution_count": 33,
   "metadata": {},
   "outputs": [
    {
     "name": "stdout",
     "output_type": "stream",
     "text": [
      "+--------------------+------------+-----------+----------------+\n",
      "|               title|release_year|imdb_rating|release_year_roc|\n",
      "+--------------------+------------+-----------+----------------+\n",
      "|The Shawshank Red...|        1994|        9.2|              83|\n",
      "|       The Godfather|        1972|        9.1|              61|\n",
      "|The Godfather: Pa...|        1974|        9.0|              63|\n",
      "|     The Dark Knight|        2008|        9.0|              97|\n",
      "|        12 Angry Men|        1957|        8.9|              46|\n",
      "+--------------------+------------+-----------+----------------+\n",
      "only showing top 5 rows\n",
      "\n"
     ]
    }
   ],
   "source": [
    "movies_from_csv.withColumn(\"release_year_roc\", movies_from_csv.release_year - 1911).show(5)"
   ]
  },
  {
   "cell_type": "markdown",
   "metadata": {
    "slideshow": {
     "slide_type": "subslide"
    }
   },
   "source": [
    "## Summarizing Spark DataFrame via aggregate methods"
   ]
  },
  {
   "cell_type": "code",
   "execution_count": 34,
   "metadata": {},
   "outputs": [
    {
     "name": "stdout",
     "output_type": "stream",
     "text": [
      "+-----------------+\n",
      "|min(release_year)|\n",
      "+-----------------+\n",
      "|             1921|\n",
      "+-----------------+\n",
      "\n"
     ]
    }
   ],
   "source": [
    "movies_from_csv.groupBy().min('release_year').show()"
   ]
  },
  {
   "cell_type": "code",
   "execution_count": 35,
   "metadata": {
    "slideshow": {
     "slide_type": "-"
    }
   },
   "outputs": [
    {
     "name": "stdout",
     "output_type": "stream",
     "text": [
      "+-----------------+\n",
      "| avg(imdb_rating)|\n",
      "+-----------------+\n",
      "|8.256399999999973|\n",
      "+-----------------+\n",
      "\n"
     ]
    }
   ],
   "source": [
    "movies_from_csv.groupBy().avg('imdb_rating').show()"
   ]
  },
  {
   "cell_type": "markdown",
   "metadata": {
    "slideshow": {
     "slide_type": "subslide"
    }
   },
   "source": [
    "## Summarizing and grouping Spark DataFrame with aggregate methods"
   ]
  },
  {
   "cell_type": "code",
   "execution_count": 36,
   "metadata": {},
   "outputs": [
    {
     "name": "stdout",
     "output_type": "stream",
     "text": [
      "+------------+----------------+\n",
      "|release_year|max(imdb_rating)|\n",
      "+------------+----------------+\n",
      "|        2020|             8.5|\n",
      "|        2019|             8.5|\n",
      "|        2018|             8.4|\n",
      "|        2017|             8.3|\n",
      "|        2016|             8.3|\n",
      "+------------+----------------+\n",
      "only showing top 5 rows\n",
      "\n"
     ]
    }
   ],
   "source": [
    "movies_from_csv.groupBy('release_year').max('imdb_rating').sort('release_year', ascending=False).show(5)"
   ]
  },
  {
   "cell_type": "markdown",
   "metadata": {
    "slideshow": {
     "slide_type": "subslide"
    }
   },
   "source": [
    "## Concatenating Spark DataFrame vertically via `union`"
   ]
  },
  {
   "cell_type": "code",
   "execution_count": 37,
   "metadata": {},
   "outputs": [
    {
     "name": "stdout",
     "output_type": "stream",
     "text": [
      "+--------------------+------------+-----------+\n",
      "|               title|release_year|imdb_rating|\n",
      "+--------------------+------------+-----------+\n",
      "|The Shawshank Red...|        1994|        9.2|\n",
      "|     The Dark Knight|        2008|        9.0|\n",
      "+--------------------+------------+-----------+\n",
      "\n"
     ]
    }
   ],
   "source": [
    "columns = [\"title\", \"release_year\", \"imdb_rating\"]\n",
    "rows = [\n",
    "    (\"The Shawshank Redemption\", 1994, 9.2),\n",
    "    (\"The Dark Knight\", 2008, 9.0)\n",
    "]\n",
    "first_two_movies = spark.createDataFrame(rows).toDF(*columns)\n",
    "first_two_movies.show()"
   ]
  },
  {
   "cell_type": "code",
   "execution_count": 38,
   "metadata": {
    "slideshow": {
     "slide_type": "subslide"
    }
   },
   "outputs": [
    {
     "name": "stdout",
     "output_type": "stream",
     "text": [
      "+----------------+------------+-----------+\n",
      "|           title|release_year|imdb_rating|\n",
      "+----------------+------------+-----------+\n",
      "|Schindler's List|        1993|        8.9|\n",
      "|    Forrest Gump|        1994|        8.8|\n",
      "+----------------+------------+-----------+\n",
      "\n"
     ]
    }
   ],
   "source": [
    "columns = [\"title\", \"release_year\", \"imdb_rating\"]\n",
    "rows = [\n",
    "    (\"Schindler's List\", 1993, 8.9),\n",
    "    (\"Forrest Gump\", 1994, 8.8)\n",
    "]\n",
    "last_two_movies = spark.createDataFrame(rows).toDF(*columns)\n",
    "last_two_movies.show()"
   ]
  },
  {
   "cell_type": "code",
   "execution_count": 39,
   "metadata": {
    "slideshow": {
     "slide_type": "subslide"
    }
   },
   "outputs": [
    {
     "name": "stdout",
     "output_type": "stream",
     "text": [
      "+--------------------+------------+-----------+\n",
      "|               title|release_year|imdb_rating|\n",
      "+--------------------+------------+-----------+\n",
      "|The Shawshank Red...|        1994|        9.2|\n",
      "|     The Dark Knight|        2008|        9.0|\n",
      "|    Schindler's List|        1993|        8.9|\n",
      "|        Forrest Gump|        1994|        8.8|\n",
      "+--------------------+------------+-----------+\n",
      "\n"
     ]
    }
   ],
   "source": [
    "movies_union = first_two_movies.union(last_two_movies)\n",
    "movies_union.show()"
   ]
  },
  {
   "cell_type": "markdown",
   "metadata": {
    "slideshow": {
     "slide_type": "subslide"
    }
   },
   "source": [
    "## Concatenating Spark DataFrame horizontally via `join`"
   ]
  },
  {
   "cell_type": "code",
   "execution_count": 40,
   "metadata": {},
   "outputs": [
    {
     "name": "stdout",
     "output_type": "stream",
     "text": [
      "+--------------------+------------+\n",
      "|               title|release_year|\n",
      "+--------------------+------------+\n",
      "|        The Avengers|        2012|\n",
      "|Avengers: Age of ...|        2015|\n",
      "|Avengers: Infinit...|        2018|\n",
      "+--------------------+------------+\n",
      "\n"
     ]
    }
   ],
   "source": [
    "columns = [\"title\", \"release_year\"]\n",
    "rows = [\n",
    "    (\"The Avengers\", 2012),\n",
    "    (\"Avengers: Age of Ultron\", 2015),\n",
    "    (\"Avengers: Infinity War\", 2018)\n",
    "]\n",
    "first_three_avenger_movies = spark.createDataFrame(rows).toDF(*columns)\n",
    "first_three_avenger_movies.show()"
   ]
  },
  {
   "cell_type": "code",
   "execution_count": 41,
   "metadata": {
    "slideshow": {
     "slide_type": "subslide"
    }
   },
   "outputs": [
    {
     "name": "stdout",
     "output_type": "stream",
     "text": [
      "+--------------------+-----------+\n",
      "|               title|imdb_rating|\n",
      "+--------------------+-----------+\n",
      "|Avengers: Age of ...|        7.3|\n",
      "|Avengers: Infinit...|        8.4|\n",
      "|   Avengers: Endgame|        8.4|\n",
      "+--------------------+-----------+\n",
      "\n"
     ]
    }
   ],
   "source": [
    "columns = [\"title\", \"imdb_rating\"]\n",
    "rows = [\n",
    "    (\"Avengers: Age of Ultron\", 7.3),\n",
    "    (\"Avengers: Infinity War\", 8.4),\n",
    "    (\"Avengers: Endgame\", 8.4)\n",
    "]\n",
    "last_three_avenger_movies = spark.createDataFrame(rows).toDF(*columns)\n",
    "last_three_avenger_movies.show()"
   ]
  },
  {
   "cell_type": "markdown",
   "metadata": {
    "slideshow": {
     "slide_type": "subslide"
    }
   },
   "source": [
    "## Join logic is set as `inner join` by default"
   ]
  },
  {
   "cell_type": "code",
   "execution_count": 42,
   "metadata": {
    "slideshow": {
     "slide_type": "-"
    }
   },
   "outputs": [
    {
     "name": "stdout",
     "output_type": "stream",
     "text": [
      "+--------------------+------------+-----------+\n",
      "|               title|release_year|imdb_rating|\n",
      "+--------------------+------------+-----------+\n",
      "|Avengers: Infinit...|        2018|        8.4|\n",
      "|Avengers: Age of ...|        2015|        7.3|\n",
      "+--------------------+------------+-----------+\n",
      "\n"
     ]
    }
   ],
   "source": [
    "first_three_avenger_movies.join(last_three_avenger_movies, on='title').show()"
   ]
  },
  {
   "cell_type": "markdown",
   "metadata": {
    "slideshow": {
     "slide_type": "subslide"
    }
   },
   "source": [
    "## Performing different kinds of join via `how`"
   ]
  },
  {
   "cell_type": "code",
   "execution_count": 43,
   "metadata": {},
   "outputs": [
    {
     "name": "stdout",
     "output_type": "stream",
     "text": [
      "+--------------------+------------+-----------+\n",
      "|               title|release_year|imdb_rating|\n",
      "+--------------------+------------+-----------+\n",
      "|        The Avengers|        2012|       null|\n",
      "|Avengers: Infinit...|        2018|        8.4|\n",
      "|Avengers: Age of ...|        2015|        7.3|\n",
      "+--------------------+------------+-----------+\n",
      "\n"
     ]
    }
   ],
   "source": [
    "# left join\n",
    "first_three_avenger_movies.join(last_three_avenger_movies, on='title', how='left').show()"
   ]
  },
  {
   "cell_type": "code",
   "execution_count": 44,
   "metadata": {
    "slideshow": {
     "slide_type": "subslide"
    }
   },
   "outputs": [
    {
     "name": "stdout",
     "output_type": "stream",
     "text": [
      "+--------------------+------------+-----------+\n",
      "|               title|release_year|imdb_rating|\n",
      "+--------------------+------------+-----------+\n",
      "|Avengers: Infinit...|        2018|        8.4|\n",
      "|Avengers: Age of ...|        2015|        7.3|\n",
      "|   Avengers: Endgame|        null|        8.4|\n",
      "+--------------------+------------+-----------+\n",
      "\n"
     ]
    }
   ],
   "source": [
    "# right join\n",
    "first_three_avenger_movies.join(last_three_avenger_movies, on='title', how='right').show()"
   ]
  },
  {
   "cell_type": "code",
   "execution_count": 45,
   "metadata": {
    "slideshow": {
     "slide_type": "subslide"
    }
   },
   "outputs": [
    {
     "name": "stdout",
     "output_type": "stream",
     "text": [
      "+--------------------+------------+-----------+\n",
      "|               title|release_year|imdb_rating|\n",
      "+--------------------+------------+-----------+\n",
      "|        The Avengers|        2012|       null|\n",
      "|Avengers: Infinit...|        2018|        8.4|\n",
      "|Avengers: Age of ...|        2015|        7.3|\n",
      "|   Avengers: Endgame|        null|        8.4|\n",
      "+--------------------+------------+-----------+\n",
      "\n"
     ]
    }
   ],
   "source": [
    "# full join\n",
    "first_three_avenger_movies.join(last_three_avenger_movies, on='title', how='full').show()"
   ]
  },
  {
   "cell_type": "markdown",
   "metadata": {
    "slideshow": {
     "slide_type": "subslide"
    }
   },
   "source": [
    "## Feeling confused by using different syntax with PySpark?\n",
    "\n",
    "![](https://media.giphy.com/media/lkdH8FmImcGoylv3t3/giphy.gif)\n",
    "\n",
    "Source: <https://giphy.com>"
   ]
  },
  {
   "cell_type": "markdown",
   "metadata": {
    "slideshow": {
     "slide_type": "subslide"
    }
   },
   "source": [
    "## Actually, we can leverage SQL or pandas to interact with Spark DataFrames\n",
    "\n",
    "- Sending SQL queries to Spark cluster.\n",
    "- Pandafying a Spark DataFrame."
   ]
  },
  {
   "cell_type": "markdown",
   "metadata": {
    "slideshow": {
     "slide_type": "subslide"
    }
   },
   "source": [
    "## Sending SQL queries via `sql`"
   ]
  },
  {
   "cell_type": "code",
   "execution_count": 46,
   "metadata": {},
   "outputs": [
    {
     "name": "stdout",
     "output_type": "stream",
     "text": [
      "[Table(name='movies_from_csv', database=None, description=None, tableType='TEMPORARY', isTemporary=True), Table(name='movies_from_list', database=None, description=None, tableType='TEMPORARY', isTemporary=True)]\n"
     ]
    }
   ],
   "source": [
    "print(spark.catalog.listTables())"
   ]
  },
  {
   "cell_type": "code",
   "execution_count": 47,
   "metadata": {
    "slideshow": {
     "slide_type": "subslide"
    }
   },
   "outputs": [
    {
     "name": "stdout",
     "output_type": "stream",
     "text": [
      "+------------+--------------------+---------------+\n",
      "|release_year|               title|max_imdb_rating|\n",
      "+------------+--------------------+---------------+\n",
      "|        1994|The Shawshank Red...|            9.2|\n",
      "|        1972|       The Godfather|            9.1|\n",
      "|        2008|     The Dark Knight|            9.0|\n",
      "|        1974|The Godfather: Pa...|            9.0|\n",
      "|        2003|The Lord of the R...|            8.9|\n",
      "|        1957|        12 Angry Men|            8.9|\n",
      "|        1993|    Schindler's List|            8.9|\n",
      "|        1966|The Good, the Bad...|            8.8|\n",
      "|        1994|        Forrest Gump|            8.8|\n",
      "|        1999|          Fight Club|            8.8|\n",
      "+------------+--------------------+---------------+\n",
      "\n"
     ]
    }
   ],
   "source": [
    "query = \"\"\"\n",
    "SELECT release_year,\n",
    "       title,\n",
    "       MAX(imdb_rating) AS max_imdb_rating\n",
    "  FROM movies_from_csv\n",
    " GROUP BY release_year, title\n",
    " ORDER BY max_imdb_rating DESC\n",
    " LIMIT 10;\n",
    "\"\"\"\n",
    "spark.sql(query).show()"
   ]
  },
  {
   "cell_type": "markdown",
   "metadata": {
    "slideshow": {
     "slide_type": "subslide"
    }
   },
   "source": [
    "## Pandafying a Spark DataFrame"
   ]
  },
  {
   "cell_type": "code",
   "execution_count": 48,
   "metadata": {},
   "outputs": [
    {
     "name": "stdout",
     "output_type": "stream",
     "text": [
      "<class 'pyspark.sql.dataframe.DataFrame'>\n",
      "<class 'pandas.core.frame.DataFrame'>\n"
     ]
    }
   ],
   "source": [
    "print(type(movies_from_csv))\n",
    "print(type(movies_from_csv.toPandas()))"
   ]
  },
  {
   "cell_type": "code",
   "execution_count": 49,
   "metadata": {
    "slideshow": {
     "slide_type": "subslide"
    }
   },
   "outputs": [
    {
     "data": {
      "text/plain": [
       "release_year  title                                            \n",
       "1994          The Shawshank Redemption                             9.2\n",
       "1972          The Godfather                                        9.1\n",
       "1974          The Godfather: Part II                               9.0\n",
       "2008          The Dark Knight                                      9.0\n",
       "1993          Schindler's List                                     8.9\n",
       "1957          12 Angry Men                                         8.9\n",
       "2003          The Lord of the Rings: The Return of the King        8.9\n",
       "1994          Pulp Fiction                                         8.8\n",
       "2001          The Lord of the Rings: The Fellowship of the Ring    8.8\n",
       "1999          Fight Club                                           8.8\n",
       "Name: imdb_rating, dtype: float64"
      ]
     },
     "execution_count": 49,
     "metadata": {},
     "output_type": "execute_result"
    }
   ],
   "source": [
    "movies_pddf = movies_from_csv.toPandas()\n",
    "movies_pddf.groupby(['release_year', 'title'])['imdb_rating'].max().sort_values(ascending=False)[:10]"
   ]
  }
 ],
 "metadata": {
  "celltoolbar": "Slideshow",
  "kernelspec": {
   "display_name": "Python 3",
   "language": "python",
   "name": "python3"
  },
  "language_info": {
   "codemirror_mode": {
    "name": "ipython",
    "version": 3
   },
   "file_extension": ".py",
   "mimetype": "text/x-python",
   "name": "python",
   "nbconvert_exporter": "python",
   "pygments_lexer": "ipython3",
   "version": "3.6.8"
  }
 },
 "nbformat": 4,
 "nbformat_minor": 4
}
