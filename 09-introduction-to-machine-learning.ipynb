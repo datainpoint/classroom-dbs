{
 "cells": [
  {
   "cell_type": "markdown",
   "metadata": {
    "slideshow": {
     "slide_type": "slide"
    }
   },
   "source": [
    "# Python Data Science\n",
    "\n",
    "> Introduction to Machine Learning\n",
    "\n",
    "Kuo, Yao-Jen from [DATAINPOINT](https://www.datainpoint.com/)"
   ]
  },
  {
   "cell_type": "code",
   "execution_count": 1,
   "metadata": {
    "slideshow": {
     "slide_type": "subslide"
    }
   },
   "outputs": [],
   "source": [
    "import numpy as np\n",
    "import pandas as pd\n",
    "import matplotlib.pyplot as plt\n",
    "from sklearn.preprocessing import PolynomialFeatures\n",
    "from sklearn.preprocessing import StandardScaler\n",
    "from sklearn.linear_model import LinearRegression\n",
    "from sklearn.linear_model import Ridge\n",
    "from sklearn.linear_model import LogisticRegression\n",
    "from sklearn.svm import SVC\n",
    "from sklearn.model_selection import train_test_split\n",
    "from sklearn.metrics import mean_squared_error\n",
    "from sklearn.metrics import accuracy_score\n",
    "from pyspark import SparkContext\n",
    "from pyspark.sql import SparkSession\n",
    "from pyspark.ml.feature import VectorAssembler"
   ]
  },
  {
   "cell_type": "markdown",
   "metadata": {
    "slideshow": {
     "slide_type": "subslide"
    }
   },
   "source": [
    "## TL; DR\n",
    "\n",
    "> In this lecture, we will talk about how to predict data with `sklearn` and `pyspark`."
   ]
  },
  {
   "cell_type": "markdown",
   "metadata": {
    "slideshow": {
     "slide_type": "slide"
    }
   },
   "source": [
    "## About Scikit-Learn"
   ]
  },
  {
   "cell_type": "markdown",
   "metadata": {
    "slideshow": {
     "slide_type": "subslide"
    }
   },
   "source": [
    "## What is Scikit-Learn?\n",
    "\n",
    "> Scikit-learn is an open source machine learning library that supports supervised and unsupervised learning. It also provides various tools for model fitting, data preprocessing, model selection and evaluation, and many other utilities.\n",
    "\n",
    "Source: <https://scikit-learn.org/>"
   ]
  },
  {
   "cell_type": "markdown",
   "metadata": {
    "slideshow": {
     "slide_type": "subslide"
    }
   },
   "source": [
    "## Import sklearn with `import` command"
   ]
  },
  {
   "cell_type": "code",
   "execution_count": 2,
   "metadata": {},
   "outputs": [],
   "source": [
    "import sklearn"
   ]
  },
  {
   "cell_type": "markdown",
   "metadata": {
    "slideshow": {
     "slide_type": "subslide"
    }
   },
   "source": [
    "## If Scikit-Learn is not installed, we will encounter a `ModuleNotFoundError`\n",
    "\n",
    "```\n",
    "Traceback (most recent call last):\n",
    "  File \"<stdin>\", line 1, in <module>\n",
    "ModuleNotFoundError: No module named 'sklearn'\n",
    "```"
   ]
  },
  {
   "cell_type": "markdown",
   "metadata": {
    "slideshow": {
     "slide_type": "subslide"
    }
   },
   "source": [
    "## Use `pip install` at Terminal to install Scikit-Learn\n",
    "\n",
    "```bash\n",
    "pip install scikit-learn\n",
    "```"
   ]
  },
  {
   "cell_type": "markdown",
   "metadata": {
    "slideshow": {
     "slide_type": "subslide"
    }
   },
   "source": [
    "## Check version and its installation file path\n",
    "\n",
    "- `__version__` attribute\n",
    "- `__file__` attribute"
   ]
  },
  {
   "cell_type": "code",
   "execution_count": 3,
   "metadata": {},
   "outputs": [
    {
     "name": "stdout",
     "output_type": "stream",
     "text": [
      "0.23.2\n",
      "/opt/conda/lib/python3.8/site-packages/sklearn/__init__.py\n"
     ]
    }
   ],
   "source": [
    "print(sklearn.__version__)\n",
    "print(sklearn.__file__)"
   ]
  },
  {
   "cell_type": "markdown",
   "metadata": {
    "slideshow": {
     "slide_type": "subslide"
    }
   },
   "source": [
    "## We usually import specific functionalities in Scikit-Learn, so instead of using `import sklearn`, we use `from sklearn import FUNCTIONALITY`"
   ]
  },
  {
   "cell_type": "markdown",
   "metadata": {
    "slideshow": {
     "slide_type": "subslide"
    }
   },
   "source": [
    "## Why Scikit-Learn?\n",
    "\n",
    "> Scikit-Learn is characterized by a clean, uniform, and streamlined API, as well as by very useful and complete online documentation. A benefit of this uniformity is that once you understand the basic use and syntax of Scikit-Learn for one type of model, switching to a new model or algorithm is very straightforward."
   ]
  },
  {
   "cell_type": "markdown",
   "metadata": {
    "slideshow": {
     "slide_type": "subslide"
    }
   },
   "source": [
    "## Scikit-Learn API principles\n",
    "\n",
    "- **Consistency**\n",
    "- **Inspection**\n",
    "- Nonproliferation of classes\n",
    "- Composition\n",
    "- **Sensible defaults**"
   ]
  },
  {
   "cell_type": "markdown",
   "metadata": {
    "slideshow": {
     "slide_type": "slide"
    }
   },
   "source": [
    "## Getting Started with Scikit-Learn"
   ]
  },
  {
   "cell_type": "markdown",
   "metadata": {
    "slideshow": {
     "slide_type": "subslide"
    }
   },
   "source": [
    "## What is Machine Learning?\n",
    "\n",
    "> A computer program is said to learn from experience E with respect to some class of tasks T and performance measure P if its performance at tasks in T, as measured by P, improves with experience E.\n",
    ">\n",
    "> [Tom Mitchel](http://www.cs.cmu.edu/~tom/)"
   ]
  },
  {
   "cell_type": "markdown",
   "metadata": {
    "slideshow": {
     "slide_type": "subslide"
    }
   },
   "source": [
    "## Traditional way to solve a problem with a computer program\n",
    "\n",
    "![Imgur](https://i.imgur.com/3pojPXW.png?1)"
   ]
  },
  {
   "cell_type": "markdown",
   "metadata": {
    "slideshow": {
     "slide_type": "subslide"
    }
   },
   "source": [
    "## Given rules $w$ and data $X$, we are able to form a function $f$ for answers $y$\n",
    "\n",
    "\\begin{equation}\n",
    "y = f(X;w) = Xw\n",
    "\\end{equation}"
   ]
  },
  {
   "cell_type": "markdown",
   "metadata": {
    "slideshow": {
     "slide_type": "subslide"
    }
   },
   "source": [
    "## The machine learning way to solve a problem with a computer program\n",
    "\n",
    "![Imgur](https://i.imgur.com/YunyLd7.png)"
   ]
  },
  {
   "cell_type": "markdown",
   "metadata": {
    "slideshow": {
     "slide_type": "subslide"
    }
   },
   "source": [
    "## Given answers $y$ and data $X$, a computer program strives to generate rules $w$ that is able to minimize loss $J$\n",
    "\n",
    "\\begin{equation}\n",
    "minimize \\; J(w) \\\\\n",
    "subject \\; to \\; \\hat{y} = h(X; w) = Xw \\\\\n",
    "where \\; J(w) \\; \\text{measures the loss between} \\; y \\; \\text{and} \\; \\hat{y}\n",
    "\\end{equation}"
   ]
  },
  {
   "cell_type": "markdown",
   "metadata": {
    "slideshow": {
     "slide_type": "subslide"
    }
   },
   "source": [
    "## The most common loss function $J$ adopted while predicting numerics\n",
    "\n",
    "Minimize mean squared error.\n",
    "\n",
    "\\begin{align}\n",
    "minimize \\; J(w) =  \\frac{1}{m} \\sum_i^m (y_i - \\hat{y_i})^2 \\\\\n",
    "= \\frac{1}{m} \\sum_i^m (y_i - x_i w)^2\n",
    "\\end{align}"
   ]
  },
  {
   "cell_type": "markdown",
   "metadata": {
    "slideshow": {
     "slide_type": "subslide"
    }
   },
   "source": [
    "## The most common loss function $J$ adopted while predicting categoricals\n",
    "\n",
    "Minimize number of errors.\n",
    "\n",
    "\\begin{align}\n",
    "minimize \\; J(w) = | y_i \\neq \\hat{y_i}| \\\\\n",
    "= | y_i \\neq \\sigma(x_iw)|\n",
    "\\end{align}"
   ]
  },
  {
   "cell_type": "markdown",
   "metadata": {
    "slideshow": {
     "slide_type": "subslide"
    }
   },
   "source": [
    "## The most common loss function $J$ adopted while predicting probabilities\n",
    "\n",
    "Minimize cross entropy function.\n",
    "\n",
    "\\begin{align}\n",
    "minimize \\; J(w) = \\frac{1}{m} \\sum_i^m -y log \\big( \\sigma(x_iw) \\big) - (1-y) log \\Big( \\sigma \\big( 1 - \\sigma(x_iw) \\big) \\Big)\n",
    "\\end{align}"
   ]
  },
  {
   "cell_type": "markdown",
   "metadata": {
    "slideshow": {
     "slide_type": "subslide"
    }
   },
   "source": [
    "## Data representation in Scikit-Learn\n",
    "\n",
    "- Feature matrix $X$ with a $(m, n)$ shape\n",
    "- Target array $y$ with a $(m,)$ shape"
   ]
  },
  {
   "cell_type": "code",
   "execution_count": 4,
   "metadata": {
    "slideshow": {
     "slide_type": "skip"
    }
   },
   "outputs": [],
   "source": [
    "def plot_X_y():\n",
    "    fig = plt.figure(figsize=(6, 4))\n",
    "    ax = fig.add_axes([0, 0, 1, 1])\n",
    "    ax.axis('off')\n",
    "    ax.axis('equal')\n",
    "    # Draw features matrix\n",
    "    ax.vlines(range(6), ymin=0, ymax=9, lw=1)\n",
    "    ax.hlines(range(10), xmin=0, xmax=5, lw=1)\n",
    "    font_prop = dict(size=12, family='monospace')\n",
    "    ax.text(-1, -1, \"Feature Matrix ($X$)\", size=14)\n",
    "    ax.text(0.1, -0.3, r'n_features $\\longrightarrow$', **font_prop)\n",
    "    ax.text(-0.1, 0.1, r'$\\longleftarrow$ n_samples', rotation=90,\n",
    "            va='top', ha='right', **font_prop)\n",
    "    # Draw labels vector\n",
    "    ax.vlines(range(8, 10), ymin=0, ymax=9, lw=1)\n",
    "    ax.hlines(range(10), xmin=8, xmax=9, lw=1)\n",
    "    ax.text(7, -1, \"Target Vector ($y$)\", size=14)\n",
    "    ax.text(7.9, 0.1, r'$\\longleftarrow$ n_samples', rotation=90,\n",
    "            va='top', ha='right', **font_prop)\n",
    "    ax.set_ylim(10, -2)\n",
    "    plt.show()"
   ]
  },
  {
   "cell_type": "code",
   "execution_count": 5,
   "metadata": {
    "slideshow": {
     "slide_type": "subslide"
    }
   },
   "outputs": [
    {
     "data": {
      "image/png": "[encoded data removed]",
      "text/plain": [
       "<Figure size 432x288 with 1 Axes>"
      ]
     },
     "metadata": {
      "needs_background": "light"
     },
     "output_type": "display_data"
    }
   ],
   "source": [
    "plot_X_y()"
   ]
  },
  {
   "cell_type": "markdown",
   "metadata": {
    "slideshow": {
     "slide_type": "subslide"
    }
   },
   "source": [
    "## How to extract feature matrix and target array from a DataFrame"
   ]
  },
  {
   "cell_type": "code",
   "execution_count": 6,
   "metadata": {},
   "outputs": [
    {
     "name": "stdout",
     "output_type": "stream",
     "text": [
      "<class 'pandas.core.frame.DataFrame'>\n",
      "(510, 50)\n"
     ]
    }
   ],
   "source": [
    "csv_url = \"https://raw.githubusercontent.com/yaojenkuo/ml-newbies/master/player_stats.csv\"\n",
    "player_stats = pd.read_csv(csv_url)\n",
    "print(type(player_stats))\n",
    "print(player_stats.shape)"
   ]
  },
  {
   "cell_type": "code",
   "execution_count": 7,
   "metadata": {
    "slideshow": {
     "slide_type": "subslide"
    }
   },
   "outputs": [
    {
     "data": {
      "text/html": [
       "<div>\n",
       "<style scoped>\n",
       "    .dataframe tbody tr th:only-of-type {\n",
       "        vertical-align: middle;\n",
       "    }\n",
       "\n",
       "    .dataframe tbody tr th {\n",
       "        vertical-align: top;\n",
       "    }\n",
       "\n",
       "    .dataframe thead th {\n",
       "        text-align: right;\n",
       "    }\n",
       "</style>\n",
       "<table border=\"1\" class=\"dataframe\">\n",
       "  <thead>\n",
       "    <tr style=\"text-align: right;\">\n",
       "      <th></th>\n",
       "      <th>firstName</th>\n",
       "      <th>lastName</th>\n",
       "      <th>temporaryDisplayName</th>\n",
       "      <th>personId</th>\n",
       "      <th>teamId</th>\n",
       "      <th>jersey</th>\n",
       "      <th>isActive</th>\n",
       "      <th>pos</th>\n",
       "      <th>heightFeet</th>\n",
       "      <th>heightInches</th>\n",
       "      <th>...</th>\n",
       "      <th>ftm</th>\n",
       "      <th>fta</th>\n",
       "      <th>pFouls</th>\n",
       "      <th>points</th>\n",
       "      <th>gamesPlayed</th>\n",
       "      <th>gamesStarted</th>\n",
       "      <th>plusMinus</th>\n",
       "      <th>min</th>\n",
       "      <th>dd2</th>\n",
       "      <th>td3</th>\n",
       "    </tr>\n",
       "  </thead>\n",
       "  <tbody>\n",
       "    <tr>\n",
       "      <th>0</th>\n",
       "      <td>Jaylen</td>\n",
       "      <td>Adams</td>\n",
       "      <td>Adams, Jaylen</td>\n",
       "      <td>1629121</td>\n",
       "      <td>1610612757</td>\n",
       "      <td>10.0</td>\n",
       "      <td>True</td>\n",
       "      <td>G</td>\n",
       "      <td>6</td>\n",
       "      <td>0</td>\n",
       "      <td>...</td>\n",
       "      <td>7.0</td>\n",
       "      <td>9.0</td>\n",
       "      <td>45.0</td>\n",
       "      <td>108.0</td>\n",
       "      <td>34.0</td>\n",
       "      <td>1.0</td>\n",
       "      <td>-57.0</td>\n",
       "      <td>427.0</td>\n",
       "      <td>0.0</td>\n",
       "      <td>0.0</td>\n",
       "    </tr>\n",
       "    <tr>\n",
       "      <th>1</th>\n",
       "      <td>Steven</td>\n",
       "      <td>Adams</td>\n",
       "      <td>Adams, Steven</td>\n",
       "      <td>203500</td>\n",
       "      <td>1610612760</td>\n",
       "      <td>12.0</td>\n",
       "      <td>True</td>\n",
       "      <td>C</td>\n",
       "      <td>6</td>\n",
       "      <td>11</td>\n",
       "      <td>...</td>\n",
       "      <td>876.0</td>\n",
       "      <td>1573.0</td>\n",
       "      <td>1384.0</td>\n",
       "      <td>5191.0</td>\n",
       "      <td>530.0</td>\n",
       "      <td>466.0</td>\n",
       "      <td>1619.0</td>\n",
       "      <td>14208.0</td>\n",
       "      <td>112.0</td>\n",
       "      <td>0.0</td>\n",
       "    </tr>\n",
       "    <tr>\n",
       "      <th>2</th>\n",
       "      <td>Bam</td>\n",
       "      <td>Adebayo</td>\n",
       "      <td>Adebayo, Bam</td>\n",
       "      <td>1628389</td>\n",
       "      <td>1610612748</td>\n",
       "      <td>13.0</td>\n",
       "      <td>True</td>\n",
       "      <td>C-F</td>\n",
       "      <td>6</td>\n",
       "      <td>9</td>\n",
       "      <td>...</td>\n",
       "      <td>559.0</td>\n",
       "      <td>787.0</td>\n",
       "      <td>523.0</td>\n",
       "      <td>2352.0</td>\n",
       "      <td>223.0</td>\n",
       "      <td>119.0</td>\n",
       "      <td>234.0</td>\n",
       "      <td>5697.0</td>\n",
       "      <td>58.0</td>\n",
       "      <td>3.0</td>\n",
       "    </tr>\n",
       "    <tr>\n",
       "      <th>3</th>\n",
       "      <td>LaMarcus</td>\n",
       "      <td>Aldridge</td>\n",
       "      <td>Aldridge, LaMarcus</td>\n",
       "      <td>200746</td>\n",
       "      <td>1610612759</td>\n",
       "      <td>12.0</td>\n",
       "      <td>True</td>\n",
       "      <td>C-F</td>\n",
       "      <td>6</td>\n",
       "      <td>11</td>\n",
       "      <td>...</td>\n",
       "      <td>3579.0</td>\n",
       "      <td>4414.0</td>\n",
       "      <td>2473.0</td>\n",
       "      <td>19599.0</td>\n",
       "      <td>1003.0</td>\n",
       "      <td>962.0</td>\n",
       "      <td>2799.0</td>\n",
       "      <td>34517.0</td>\n",
       "      <td>351.0</td>\n",
       "      <td>0.0</td>\n",
       "    </tr>\n",
       "    <tr>\n",
       "      <th>4</th>\n",
       "      <td>Kyle</td>\n",
       "      <td>Alexander</td>\n",
       "      <td>Alexander, Kyle</td>\n",
       "      <td>1629734</td>\n",
       "      <td>1610612748</td>\n",
       "      <td>17.0</td>\n",
       "      <td>True</td>\n",
       "      <td>F-C</td>\n",
       "      <td>6</td>\n",
       "      <td>10</td>\n",
       "      <td>...</td>\n",
       "      <td>0.0</td>\n",
       "      <td>0.0</td>\n",
       "      <td>1.0</td>\n",
       "      <td>2.0</td>\n",
       "      <td>2.0</td>\n",
       "      <td>0.0</td>\n",
       "      <td>-3.0</td>\n",
       "      <td>13.0</td>\n",
       "      <td>0.0</td>\n",
       "      <td>0.0</td>\n",
       "    </tr>\n",
       "  </tbody>\n",
       "</table>\n",
       "<p>5 rows × 50 columns</p>\n",
       "</div>"
      ],
      "text/plain": [
       "  firstName   lastName temporaryDisplayName  personId      teamId  jersey  \\\n",
       "0    Jaylen      Adams        Adams, Jaylen   1629121  1610612757    10.0   \n",
       "1    Steven      Adams        Adams, Steven    203500  1610612760    12.0   \n",
       "2       Bam    Adebayo         Adebayo, Bam   1628389  1610612748    13.0   \n",
       "3  LaMarcus   Aldridge   Aldridge, LaMarcus    200746  1610612759    12.0   \n",
       "4      Kyle  Alexander      Alexander, Kyle   1629734  1610612748    17.0   \n",
       "\n",
       "   isActive  pos  heightFeet  heightInches  ...     ftm     fta  pFouls  \\\n",
       "0      True    G           6             0  ...     7.0     9.0    45.0   \n",
       "1      True    C           6            11  ...   876.0  1573.0  1384.0   \n",
       "2      True  C-F           6             9  ...   559.0   787.0   523.0   \n",
       "3      True  C-F           6            11  ...  3579.0  4414.0  2473.0   \n",
       "4      True  F-C           6            10  ...     0.0     0.0     1.0   \n",
       "\n",
       "    points  gamesPlayed  gamesStarted plusMinus      min    dd2  td3  \n",
       "0    108.0         34.0           1.0     -57.0    427.0    0.0  0.0  \n",
       "1   5191.0        530.0         466.0    1619.0  14208.0  112.0  0.0  \n",
       "2   2352.0        223.0         119.0     234.0   5697.0   58.0  3.0  \n",
       "3  19599.0       1003.0         962.0    2799.0  34517.0  351.0  0.0  \n",
       "4      2.0          2.0           0.0      -3.0     13.0    0.0  0.0  \n",
       "\n",
       "[5 rows x 50 columns]"
      ]
     },
     "execution_count": 7,
     "metadata": {},
     "output_type": "execute_result"
    }
   ],
   "source": [
    "player_stats.head()"
   ]
  },
  {
   "cell_type": "code",
   "execution_count": 8,
   "metadata": {
    "slideshow": {
     "slide_type": "subslide"
    }
   },
   "outputs": [
    {
     "name": "stdout",
     "output_type": "stream",
     "text": [
      "(510, 2)\n",
      "(510,)\n"
     ]
    }
   ],
   "source": [
    "X = player_stats[['apg', 'rpg']].values\n",
    "y = player_stats['pos'].values\n",
    "print(X.shape)\n",
    "print(y.shape)"
   ]
  },
  {
   "cell_type": "code",
   "execution_count": 9,
   "metadata": {
    "slideshow": {
     "slide_type": "subslide"
    }
   },
   "outputs": [
    {
     "name": "stdout",
     "output_type": "stream",
     "text": [
      "(510, 1)\n",
      "(510,)\n"
     ]
    }
   ],
   "source": [
    "X = player_stats['heightMeters'].values.reshape(-1, 1)\n",
    "y = player_stats['weightKilograms'].values\n",
    "print(X.shape)\n",
    "print(y.shape)"
   ]
  },
  {
   "cell_type": "markdown",
   "metadata": {
    "slideshow": {
     "slide_type": "slide"
    }
   },
   "source": [
    "## The Scikit-Learn Estimators"
   ]
  },
  {
   "cell_type": "markdown",
   "metadata": {
    "slideshow": {
     "slide_type": "subslide"
    }
   },
   "source": [
    "## There are 2 sub-categories of estimator\n",
    "\n",
    "1. Transformer: for preprocessing data.\n",
    "2. Predictor: for generating rules $w$."
   ]
  },
  {
   "cell_type": "markdown",
   "metadata": {
    "slideshow": {
     "slide_type": "subslide"
    }
   },
   "source": [
    "## Recap: the design principle of Scikit-Learn API\n",
    "\n",
    "- **Consistency**\n",
    "- **Inspection**\n",
    "- Nonproliferation of classes\n",
    "- Composition\n",
    "- **Sensible defaults**"
   ]
  },
  {
   "cell_type": "markdown",
   "metadata": {
    "slideshow": {
     "slide_type": "subslide"
    }
   },
   "source": [
    "## We can literally see three of these when calling the Scikit-Learn API\n",
    "\n",
    "- Consistency\n",
    "- Inspection\n",
    "- Sensible defaults"
   ]
  },
  {
   "cell_type": "markdown",
   "metadata": {
    "slideshow": {
     "slide_type": "subslide"
    }
   },
   "source": [
    "## The sensible defaults principle\n",
    "\n",
    "Every estimator can be initiated with reasonable default."
   ]
  },
  {
   "cell_type": "code",
   "execution_count": 10,
   "metadata": {
    "slideshow": {
     "slide_type": "subslide"
    }
   },
   "outputs": [],
   "source": [
    "# Two transformers\n",
    "poly = PolynomialFeatures()\n",
    "ss = StandardScaler()"
   ]
  },
  {
   "cell_type": "code",
   "execution_count": 11,
   "metadata": {
    "slideshow": {
     "slide_type": "-"
    }
   },
   "outputs": [],
   "source": [
    "# Two predictors\n",
    "lr = LinearRegression()\n",
    "ridge = Ridge()"
   ]
  },
  {
   "cell_type": "markdown",
   "metadata": {
    "slideshow": {
     "slide_type": "subslide"
    }
   },
   "source": [
    "## The consistency principle\n",
    "\n",
    "- Every transformer has the method `fit_transform`.\n",
    "- Every predictor has the methods `fit` and `predict`."
   ]
  },
  {
   "cell_type": "code",
   "execution_count": 12,
   "metadata": {
    "slideshow": {
     "slide_type": "subslide"
    }
   },
   "outputs": [],
   "source": [
    "# Two transformers\n",
    "X_poly = poly.fit_transform(X)\n",
    "X_ss = ss.fit_transform(X)"
   ]
  },
  {
   "cell_type": "code",
   "execution_count": 13,
   "metadata": {
    "slideshow": {
     "slide_type": "-"
    }
   },
   "outputs": [
    {
     "data": {
      "text/plain": [
       "Ridge()"
      ]
     },
     "execution_count": 13,
     "metadata": {},
     "output_type": "execute_result"
    }
   ],
   "source": [
    "# Two predictors\n",
    "lr.fit(X, y)\n",
    "ridge.fit(X, y)"
   ]
  },
  {
   "cell_type": "markdown",
   "metadata": {
    "slideshow": {
     "slide_type": "subslide"
    }
   },
   "source": [
    "## The inspection principle\n",
    "\n",
    "Every estimator has the attribute to explore the rules of transformation and prediction."
   ]
  },
  {
   "cell_type": "code",
   "execution_count": 14,
   "metadata": {
    "slideshow": {
     "slide_type": "subslide"
    }
   },
   "outputs": [
    {
     "name": "stdout",
     "output_type": "stream",
     "text": [
      "{'degree': 2, 'include_bias': True, 'interaction_only': False, 'order': 'C'}\n",
      "[1.9915098]\n",
      "[0.08554711]\n"
     ]
    }
   ],
   "source": [
    "# Two transformers\n",
    "print(poly.get_params())\n",
    "print(ss.mean_)\n",
    "print(ss.scale_)"
   ]
  },
  {
   "cell_type": "code",
   "execution_count": 15,
   "metadata": {
    "slideshow": {
     "slide_type": "-"
    }
   },
   "outputs": [
    {
     "name": "stdout",
     "output_type": "stream",
     "text": [
      "-94.20402799150044\n",
      "[96.91027034]\n",
      "1.0\n"
     ]
    }
   ],
   "source": [
    "# Two predictors\n",
    "print(lr.intercept_)\n",
    "print(lr.coef_)\n",
    "print(ridge.alpha)"
   ]
  },
  {
   "cell_type": "markdown",
   "metadata": {
    "slideshow": {
     "slide_type": "subslide"
    }
   },
   "source": [
    "## Standard steps of calling Scikit-Learn estimators\n",
    "\n",
    "1. Prepare feature matrix $X$ and target array $y$.\n",
    "2. Split training and validation sets.\n",
    "3. Initialize estimators.\n",
    "4. Fit and inspect.\n",
    "5. Evaluate performance on validation sets."
   ]
  },
  {
   "cell_type": "markdown",
   "metadata": {
    "slideshow": {
     "slide_type": "subslide"
    }
   },
   "source": [
    "## Predicting a numeric: player weights"
   ]
  },
  {
   "cell_type": "markdown",
   "metadata": {
    "slideshow": {
     "slide_type": "subslide"
    }
   },
   "source": [
    "## Prepare feature matrix $X$ and target array $y$"
   ]
  },
  {
   "cell_type": "code",
   "execution_count": 16,
   "metadata": {
    "slideshow": {
     "slide_type": "-"
    }
   },
   "outputs": [
    {
     "name": "stdout",
     "output_type": "stream",
     "text": [
      "(510, 6)\n",
      "(510,)\n"
     ]
    }
   ],
   "source": [
    "pos_recoded = player_stats['pos'].map(lambda x: x[0])\n",
    "pos_recoded_dummy = pd.get_dummies(pos_recoded)\n",
    "X = np.concatenate((player_stats[['heightMeters', 'apg', 'rpg']].values, pos_recoded_dummy[['C', 'F', 'G']]), axis=1)\n",
    "y = player_stats['weightKilograms'].values\n",
    "print(X.shape)\n",
    "print(y.shape)"
   ]
  },
  {
   "cell_type": "markdown",
   "metadata": {
    "slideshow": {
     "slide_type": "subslide"
    }
   },
   "source": [
    "## Split training and validation sets"
   ]
  },
  {
   "cell_type": "code",
   "execution_count": 17,
   "metadata": {},
   "outputs": [
    {
     "name": "stdout",
     "output_type": "stream",
     "text": [
      "(408, 6)\n",
      "(102, 6)\n",
      "(408,)\n",
      "(102,)\n"
     ]
    }
   ],
   "source": [
    "X_train, X_valid, y_train, y_valid = train_test_split(X, y, test_size=0.2, random_state=42)\n",
    "print(X_train.shape)\n",
    "print(X_valid.shape)\n",
    "print(y_train.shape)\n",
    "print(y_valid.shape)"
   ]
  },
  {
   "cell_type": "markdown",
   "metadata": {
    "slideshow": {
     "slide_type": "subslide"
    }
   },
   "source": [
    "## Initialize estimators"
   ]
  },
  {
   "cell_type": "code",
   "execution_count": 18,
   "metadata": {},
   "outputs": [],
   "source": [
    "lr = LinearRegression()\n",
    "ridge = Ridge()"
   ]
  },
  {
   "cell_type": "markdown",
   "metadata": {
    "slideshow": {
     "slide_type": "subslide"
    }
   },
   "source": [
    "## Fit and inspect"
   ]
  },
  {
   "cell_type": "code",
   "execution_count": 19,
   "metadata": {},
   "outputs": [
    {
     "name": "stdout",
     "output_type": "stream",
     "text": [
      "[47.43245585 -0.59196876  1.2242115   5.15766517 -0.42052367 -4.7371415 ]\n",
      "[24.4242662  -0.89144254  1.44229199  6.55677125 -0.17696886 -6.37980238]\n"
     ]
    }
   ],
   "source": [
    "lr.fit(X_train, y_train)\n",
    "ridge.fit(X_train, y_train)\n",
    "print(lr.coef_)\n",
    "print(ridge.coef_)"
   ]
  },
  {
   "cell_type": "markdown",
   "metadata": {
    "slideshow": {
     "slide_type": "subslide"
    }
   },
   "source": [
    "## Evaluate performance on validation sets"
   ]
  },
  {
   "cell_type": "code",
   "execution_count": 20,
   "metadata": {},
   "outputs": [
    {
     "name": "stdout",
     "output_type": "stream",
     "text": [
      "36.137565538277514\n",
      "37.38438282915527\n"
     ]
    }
   ],
   "source": [
    "y_pred = lr.predict(X_valid)\n",
    "print(mean_squared_error(y_valid, y_pred))\n",
    "y_pred = ridge.predict(X_valid)\n",
    "print(mean_squared_error(y_valid, y_pred))"
   ]
  },
  {
   "cell_type": "markdown",
   "metadata": {
    "slideshow": {
     "slide_type": "subslide"
    }
   },
   "source": [
    "## Predicting a categorical: player positions"
   ]
  },
  {
   "cell_type": "markdown",
   "metadata": {
    "slideshow": {
     "slide_type": "subslide"
    }
   },
   "source": [
    "## Prepare feature matrix $X$ and target array $y$"
   ]
  },
  {
   "cell_type": "code",
   "execution_count": 21,
   "metadata": {},
   "outputs": [
    {
     "name": "stdout",
     "output_type": "stream",
     "text": [
      "(510, 3)\n",
      "(510,)\n"
     ]
    }
   ],
   "source": [
    "pos_dict = {\n",
    "    'G': 0,\n",
    "    'F': 1,\n",
    "    'C': 2\n",
    "}\n",
    "pos_recoded_int = pos_recoded.map(pos_dict)\n",
    "X = player_stats[['heightMeters', 'apg', 'rpg']].values\n",
    "y = pos_recoded_int.values\n",
    "print(X.shape)\n",
    "print(y.shape)"
   ]
  },
  {
   "cell_type": "markdown",
   "metadata": {
    "slideshow": {
     "slide_type": "subslide"
    }
   },
   "source": [
    "## Split training and validation sets"
   ]
  },
  {
   "cell_type": "code",
   "execution_count": 22,
   "metadata": {},
   "outputs": [
    {
     "name": "stdout",
     "output_type": "stream",
     "text": [
      "(408, 3)\n",
      "(102, 3)\n",
      "(408,)\n",
      "(102,)\n"
     ]
    }
   ],
   "source": [
    "X_train, X_valid, y_train, y_valid = train_test_split(X, y, test_size=0.2, random_state=42)\n",
    "print(X_train.shape)\n",
    "print(X_valid.shape)\n",
    "print(y_train.shape)\n",
    "print(y_valid.shape)"
   ]
  },
  {
   "cell_type": "markdown",
   "metadata": {
    "slideshow": {
     "slide_type": "subslide"
    }
   },
   "source": [
    "## Initialize estimators"
   ]
  },
  {
   "cell_type": "code",
   "execution_count": 23,
   "metadata": {},
   "outputs": [],
   "source": [
    "logreg = LogisticRegression()\n",
    "svc = SVC(kernel='linear', probability=True)"
   ]
  },
  {
   "cell_type": "markdown",
   "metadata": {
    "slideshow": {
     "slide_type": "subslide"
    }
   },
   "source": [
    "## Fit and inspect"
   ]
  },
  {
   "cell_type": "code",
   "execution_count": 24,
   "metadata": {},
   "outputs": [
    {
     "name": "stdout",
     "output_type": "stream",
     "text": [
      "[[-2.72407735  1.63579497 -1.1325408 ]\n",
      " [ 0.76570272 -0.03457127  0.26456187]\n",
      " [ 1.95837464 -1.6012237   0.86797893]]\n",
      "[[-3.57325897  1.25295652 -1.01015546]\n",
      " [-2.14362139  1.66365433 -0.72711106]\n",
      " [-2.10655033  0.56818467 -0.30341064]]\n"
     ]
    }
   ],
   "source": [
    "logreg.fit(X_train, y_train)\n",
    "svc.fit(X_train, y_train)\n",
    "print(logreg.coef_)\n",
    "print(svc.coef_)"
   ]
  },
  {
   "cell_type": "code",
   "execution_count": 25,
   "metadata": {
    "slideshow": {
     "slide_type": "subslide"
    }
   },
   "outputs": [
    {
     "name": "stdout",
     "output_type": "stream",
     "text": [
      "[[4.98937130e-01 4.48870844e-01 5.21920254e-02]\n",
      " [2.56931057e-01 6.51166878e-01 9.19020654e-02]\n",
      " [6.45367895e-01 3.35668015e-01 1.89640897e-02]\n",
      " [9.94791205e-01 5.20517226e-03 3.62263535e-06]\n",
      " [4.62900334e-01 5.18337849e-01 1.87618171e-02]]\n",
      "[[4.50418809e-01 4.69739376e-01 7.98418152e-02]\n",
      " [2.25088547e-01 6.85537442e-01 8.93740108e-02]\n",
      " [6.54690310e-01 3.16402582e-01 2.89071082e-02]\n",
      " [9.97432027e-01 2.56180491e-03 6.16820363e-06]\n",
      " [4.65956986e-01 5.13753796e-01 2.02892181e-02]]\n"
     ]
    }
   ],
   "source": [
    "print(logreg.predict_proba(X_valid)[:5, :])\n",
    "print(svc.predict_proba(X_valid)[:5, :])"
   ]
  },
  {
   "cell_type": "markdown",
   "metadata": {
    "slideshow": {
     "slide_type": "subslide"
    }
   },
   "source": [
    "## Evaluate performance on validation sets"
   ]
  },
  {
   "cell_type": "code",
   "execution_count": 26,
   "metadata": {},
   "outputs": [
    {
     "name": "stdout",
     "output_type": "stream",
     "text": [
      "0.7941176470588235\n",
      "0.7745098039215687\n"
     ]
    }
   ],
   "source": [
    "y_pred = logreg.predict(X_valid)\n",
    "print(accuracy_score(y_valid, y_pred))\n",
    "y_pred = svc.predict(X_valid)\n",
    "print(accuracy_score(y_valid, y_pred))"
   ]
  },
  {
   "cell_type": "markdown",
   "metadata": {
    "slideshow": {
     "slide_type": "slide"
    }
   },
   "source": [
    "## Extending to PySpark"
   ]
  },
  {
   "cell_type": "markdown",
   "metadata": {
    "slideshow": {
     "slide_type": "subslide"
    }
   },
   "source": [
    "## What is pyspark.ml?\n",
    "\n",
    "> `pyspark.ml` is a group of DataFrame-based machine learning APIs to let users quickly assemble and configure practical machine learning pipelines.\n",
    "\n",
    "Source: <https://spark.apache.org/>"
   ]
  },
  {
   "cell_type": "markdown",
   "metadata": {
    "slideshow": {
     "slide_type": "subslide"
    }
   },
   "source": [
    "## At the core of the `pyspark.ml` module is the Estimator class. That means we can smoothly leverage our Scikit-Learn knowledge"
   ]
  },
  {
   "cell_type": "code",
   "execution_count": 27,
   "metadata": {},
   "outputs": [],
   "source": [
    "sc = SparkContext.getOrCreate()\n",
    "spark = SparkSession(sc)"
   ]
  },
  {
   "cell_type": "markdown",
   "metadata": {
    "slideshow": {
     "slide_type": "subslide"
    }
   },
   "source": [
    "## Prepare a Spark DataFrame from a pandas DataFrame"
   ]
  },
  {
   "cell_type": "code",
   "execution_count": 28,
   "metadata": {},
   "outputs": [
    {
     "name": "stdout",
     "output_type": "stream",
     "text": [
      "<class 'pandas.core.frame.DataFrame'>\n"
     ]
    },
    {
     "data": {
      "text/html": [
       "<div>\n",
       "<style scoped>\n",
       "    .dataframe tbody tr th:only-of-type {\n",
       "        vertical-align: middle;\n",
       "    }\n",
       "\n",
       "    .dataframe tbody tr th {\n",
       "        vertical-align: top;\n",
       "    }\n",
       "\n",
       "    .dataframe thead th {\n",
       "        text-align: right;\n",
       "    }\n",
       "</style>\n",
       "<table border=\"1\" class=\"dataframe\">\n",
       "  <thead>\n",
       "    <tr style=\"text-align: right;\">\n",
       "      <th></th>\n",
       "      <th>firstName</th>\n",
       "      <th>lastName</th>\n",
       "      <th>temporaryDisplayName</th>\n",
       "      <th>personId</th>\n",
       "      <th>teamId</th>\n",
       "      <th>jersey</th>\n",
       "      <th>isActive</th>\n",
       "      <th>pos</th>\n",
       "      <th>heightFeet</th>\n",
       "      <th>heightInches</th>\n",
       "      <th>...</th>\n",
       "      <th>gamesPlayed</th>\n",
       "      <th>gamesStarted</th>\n",
       "      <th>plusMinus</th>\n",
       "      <th>min</th>\n",
       "      <th>dd2</th>\n",
       "      <th>td3</th>\n",
       "      <th>pos_recoded_int</th>\n",
       "      <th>C</th>\n",
       "      <th>F</th>\n",
       "      <th>G</th>\n",
       "    </tr>\n",
       "  </thead>\n",
       "  <tbody>\n",
       "    <tr>\n",
       "      <th>0</th>\n",
       "      <td>Jaylen</td>\n",
       "      <td>Adams</td>\n",
       "      <td>Adams, Jaylen</td>\n",
       "      <td>1629121</td>\n",
       "      <td>1610612757</td>\n",
       "      <td>10.0</td>\n",
       "      <td>True</td>\n",
       "      <td>G</td>\n",
       "      <td>6</td>\n",
       "      <td>0</td>\n",
       "      <td>...</td>\n",
       "      <td>34.0</td>\n",
       "      <td>1.0</td>\n",
       "      <td>-57.0</td>\n",
       "      <td>427.0</td>\n",
       "      <td>0.0</td>\n",
       "      <td>0.0</td>\n",
       "      <td>0</td>\n",
       "      <td>0</td>\n",
       "      <td>0</td>\n",
       "      <td>1</td>\n",
       "    </tr>\n",
       "    <tr>\n",
       "      <th>1</th>\n",
       "      <td>Steven</td>\n",
       "      <td>Adams</td>\n",
       "      <td>Adams, Steven</td>\n",
       "      <td>203500</td>\n",
       "      <td>1610612760</td>\n",
       "      <td>12.0</td>\n",
       "      <td>True</td>\n",
       "      <td>C</td>\n",
       "      <td>6</td>\n",
       "      <td>11</td>\n",
       "      <td>...</td>\n",
       "      <td>530.0</td>\n",
       "      <td>466.0</td>\n",
       "      <td>1619.0</td>\n",
       "      <td>14208.0</td>\n",
       "      <td>112.0</td>\n",
       "      <td>0.0</td>\n",
       "      <td>2</td>\n",
       "      <td>1</td>\n",
       "      <td>0</td>\n",
       "      <td>0</td>\n",
       "    </tr>\n",
       "    <tr>\n",
       "      <th>2</th>\n",
       "      <td>Bam</td>\n",
       "      <td>Adebayo</td>\n",
       "      <td>Adebayo, Bam</td>\n",
       "      <td>1628389</td>\n",
       "      <td>1610612748</td>\n",
       "      <td>13.0</td>\n",
       "      <td>True</td>\n",
       "      <td>C-F</td>\n",
       "      <td>6</td>\n",
       "      <td>9</td>\n",
       "      <td>...</td>\n",
       "      <td>223.0</td>\n",
       "      <td>119.0</td>\n",
       "      <td>234.0</td>\n",
       "      <td>5697.0</td>\n",
       "      <td>58.0</td>\n",
       "      <td>3.0</td>\n",
       "      <td>2</td>\n",
       "      <td>1</td>\n",
       "      <td>0</td>\n",
       "      <td>0</td>\n",
       "    </tr>\n",
       "    <tr>\n",
       "      <th>3</th>\n",
       "      <td>LaMarcus</td>\n",
       "      <td>Aldridge</td>\n",
       "      <td>Aldridge, LaMarcus</td>\n",
       "      <td>200746</td>\n",
       "      <td>1610612759</td>\n",
       "      <td>12.0</td>\n",
       "      <td>True</td>\n",
       "      <td>C-F</td>\n",
       "      <td>6</td>\n",
       "      <td>11</td>\n",
       "      <td>...</td>\n",
       "      <td>1003.0</td>\n",
       "      <td>962.0</td>\n",
       "      <td>2799.0</td>\n",
       "      <td>34517.0</td>\n",
       "      <td>351.0</td>\n",
       "      <td>0.0</td>\n",
       "      <td>2</td>\n",
       "      <td>1</td>\n",
       "      <td>0</td>\n",
       "      <td>0</td>\n",
       "    </tr>\n",
       "    <tr>\n",
       "      <th>4</th>\n",
       "      <td>Kyle</td>\n",
       "      <td>Alexander</td>\n",
       "      <td>Alexander, Kyle</td>\n",
       "      <td>1629734</td>\n",
       "      <td>1610612748</td>\n",
       "      <td>17.0</td>\n",
       "      <td>True</td>\n",
       "      <td>F-C</td>\n",
       "      <td>6</td>\n",
       "      <td>10</td>\n",
       "      <td>...</td>\n",
       "      <td>2.0</td>\n",
       "      <td>0.0</td>\n",
       "      <td>-3.0</td>\n",
       "      <td>13.0</td>\n",
       "      <td>0.0</td>\n",
       "      <td>0.0</td>\n",
       "      <td>1</td>\n",
       "      <td>0</td>\n",
       "      <td>1</td>\n",
       "      <td>0</td>\n",
       "    </tr>\n",
       "  </tbody>\n",
       "</table>\n",
       "<p>5 rows × 54 columns</p>\n",
       "</div>"
      ],
      "text/plain": [
       "  firstName   lastName temporaryDisplayName  personId      teamId  jersey  \\\n",
       "0    Jaylen      Adams        Adams, Jaylen   1629121  1610612757    10.0   \n",
       "1    Steven      Adams        Adams, Steven    203500  1610612760    12.0   \n",
       "2       Bam    Adebayo         Adebayo, Bam   1628389  1610612748    13.0   \n",
       "3  LaMarcus   Aldridge   Aldridge, LaMarcus    200746  1610612759    12.0   \n",
       "4      Kyle  Alexander      Alexander, Kyle   1629734  1610612748    17.0   \n",
       "\n",
       "   isActive  pos  heightFeet  heightInches  ...  gamesPlayed  gamesStarted  \\\n",
       "0      True    G           6             0  ...         34.0           1.0   \n",
       "1      True    C           6            11  ...        530.0         466.0   \n",
       "2      True  C-F           6             9  ...        223.0         119.0   \n",
       "3      True  C-F           6            11  ...       1003.0         962.0   \n",
       "4      True  F-C           6            10  ...          2.0           0.0   \n",
       "\n",
       "   plusMinus      min    dd2  td3 pos_recoded_int  C  F  G  \n",
       "0      -57.0    427.0    0.0  0.0               0  0  0  1  \n",
       "1     1619.0  14208.0  112.0  0.0               2  1  0  0  \n",
       "2      234.0   5697.0   58.0  3.0               2  1  0  0  \n",
       "3     2799.0  34517.0  351.0  0.0               2  1  0  0  \n",
       "4       -3.0     13.0    0.0  0.0               1  0  1  0  \n",
       "\n",
       "[5 rows x 54 columns]"
      ]
     },
     "execution_count": 28,
     "metadata": {},
     "output_type": "execute_result"
    }
   ],
   "source": [
    "player_stats['pos_recoded_int'] = pos_recoded_int\n",
    "player_stats = pd.concat((player_stats, pos_recoded_dummy), axis=1)\n",
    "print(type(player_stats))\n",
    "player_stats.head()"
   ]
  },
  {
   "cell_type": "markdown",
   "metadata": {
    "slideshow": {
     "slide_type": "subslide"
    }
   },
   "source": [
    "## There we have our Spark DataFrame"
   ]
  },
  {
   "cell_type": "code",
   "execution_count": 29,
   "metadata": {},
   "outputs": [
    {
     "name": "stdout",
     "output_type": "stream",
     "text": [
      "<class 'pyspark.sql.dataframe.DataFrame'>\n",
      "+---------------+------------+---+---+---------------+---+---+---+\n",
      "|weightKilograms|heightMeters|apg|rpg|pos_recoded_int|  C|  F|  G|\n",
      "+---------------+------------+---+---+---------------+---+---+---+\n",
      "|          102.1|        1.83|1.9|1.8|              0|  0|  0|  1|\n",
      "|          120.2|        2.11|1.2|7.6|              2|  1|  0|  0|\n",
      "|          115.7|        2.06|2.9|7.7|              2|  1|  0|  0|\n",
      "|          113.4|        2.11|2.0|8.3|              2|  1|  0|  0|\n",
      "|           98.0|        2.08|0.0|1.5|              1|  0|  1|  0|\n",
      "+---------------+------------+---+---+---------------+---+---+---+\n",
      "only showing top 5 rows\n",
      "\n"
     ]
    }
   ],
   "source": [
    "player_stats_spark_df = spark.createDataFrame(player_stats[['weightKilograms', 'heightMeters', 'apg', 'rpg', 'pos_recoded_int', 'C', 'F', 'G']])\n",
    "print(type(player_stats_spark_df))\n",
    "player_stats_spark_df.show(5)"
   ]
  },
  {
   "cell_type": "markdown",
   "metadata": {
    "slideshow": {
     "slide_type": "subslide"
    }
   },
   "source": [
    "## Standard steps of calling pyspark.ml estimators\n",
    "\n",
    "1. Prepare feature matrix $X$ and target array $y$ with `VectorAssembler`.\n",
    "2. Split training and validation sets with `randomSplit`.\n",
    "3. Initialize estimators.\n",
    "4. Fit and inspect.\n",
    "5. Evaluate performance on validation sets."
   ]
  },
  {
   "cell_type": "markdown",
   "metadata": {
    "slideshow": {
     "slide_type": "subslide"
    }
   },
   "source": [
    "## Predicting a numeric: player weights"
   ]
  },
  {
   "cell_type": "markdown",
   "metadata": {
    "slideshow": {
     "slide_type": "subslide"
    }
   },
   "source": [
    "## Prepare feature matrix $X$ and target array $y$ with `VectorAssembler`"
   ]
  },
  {
   "cell_type": "code",
   "execution_count": 30,
   "metadata": {},
   "outputs": [
    {
     "name": "stdout",
     "output_type": "stream",
     "text": [
      "+--------------------+---------------+\n",
      "|            features|weightKilograms|\n",
      "+--------------------+---------------+\n",
      "|[1.83,1.9,1.8,0.0...|          102.1|\n",
      "|[2.11,1.2,7.6,1.0...|          120.2|\n",
      "|[2.06,2.9,7.7,1.0...|          115.7|\n",
      "|[2.11,2.0,8.3,1.0...|          113.4|\n",
      "|[2.08,0.0,1.5,0.0...|           98.0|\n",
      "+--------------------+---------------+\n",
      "only showing top 5 rows\n",
      "\n"
     ]
    }
   ],
   "source": [
    "vectorAssembler = VectorAssembler(inputCols = ['heightMeters', 'apg', 'rpg', 'C', 'F', 'G'],\n",
    "                                  outputCol = 'features')\n",
    "va_df = vectorAssembler.transform(player_stats_spark_df)\n",
    "va_df = va_df.select(['features', 'weightKilograms'])\n",
    "va_df.show(5)"
   ]
  },
  {
   "cell_type": "markdown",
   "metadata": {
    "slideshow": {
     "slide_type": "subslide"
    }
   },
   "source": [
    "## Split training and validation sets with `randomSplit`"
   ]
  },
  {
   "cell_type": "code",
   "execution_count": 31,
   "metadata": {
    "slideshow": {
     "slide_type": "-"
    }
   },
   "outputs": [],
   "source": [
    "splits = va_df.randomSplit([0.8, 0.2])\n",
    "train_df = splits[0]\n",
    "valid_df = splits[1]"
   ]
  },
  {
   "cell_type": "markdown",
   "metadata": {
    "slideshow": {
     "slide_type": "subslide"
    }
   },
   "source": [
    "## Initialize estimators"
   ]
  },
  {
   "cell_type": "code",
   "execution_count": 32,
   "metadata": {},
   "outputs": [],
   "source": [
    "from pyspark.ml.regression import LinearRegression # in order not to mixed up with the one in sklearn\n",
    "\n",
    "lr = LinearRegression(featuresCol = 'features', labelCol='weightKilograms')"
   ]
  },
  {
   "cell_type": "markdown",
   "metadata": {
    "slideshow": {
     "slide_type": "subslide"
    }
   },
   "source": [
    "## Fit and inspect"
   ]
  },
  {
   "cell_type": "code",
   "execution_count": 33,
   "metadata": {},
   "outputs": [
    {
     "name": "stdout",
     "output_type": "stream",
     "text": [
      "[52.334442993666705,-0.5100425590027675,0.9864130383814929,6.5158848879688,0.8729795005378003,-3.4611603177216494]\n"
     ]
    }
   ],
   "source": [
    "lr_model = lr.fit(train_df)\n",
    "print(lr_model.coefficients)"
   ]
  },
  {
   "cell_type": "markdown",
   "metadata": {
    "slideshow": {
     "slide_type": "subslide"
    }
   },
   "source": [
    "## Evaluate performance on validation sets"
   ]
  },
  {
   "cell_type": "code",
   "execution_count": 34,
   "metadata": {},
   "outputs": [
    {
     "name": "stdout",
     "output_type": "stream",
     "text": [
      "32.598291819988724\n"
     ]
    }
   ],
   "source": [
    "valid_result = lr_model.evaluate(valid_df)\n",
    "print(valid_result.meanSquaredError)"
   ]
  },
  {
   "cell_type": "markdown",
   "metadata": {
    "slideshow": {
     "slide_type": "subslide"
    }
   },
   "source": [
    "## Predicting a categorical: player positions"
   ]
  },
  {
   "cell_type": "markdown",
   "metadata": {
    "slideshow": {
     "slide_type": "subslide"
    }
   },
   "source": [
    "## Prepare feature matrix $X$ and target array $y$ with `VectorAssembler`"
   ]
  },
  {
   "cell_type": "code",
   "execution_count": 35,
   "metadata": {},
   "outputs": [
    {
     "name": "stdout",
     "output_type": "stream",
     "text": [
      "+--------------+---------------+\n",
      "|      features|pos_recoded_int|\n",
      "+--------------+---------------+\n",
      "|[1.83,1.9,1.8]|              0|\n",
      "|[2.11,1.2,7.6]|              2|\n",
      "|[2.06,2.9,7.7]|              2|\n",
      "|[2.11,2.0,8.3]|              2|\n",
      "|[2.08,0.0,1.5]|              1|\n",
      "+--------------+---------------+\n",
      "only showing top 5 rows\n",
      "\n"
     ]
    }
   ],
   "source": [
    "vectorAssembler = VectorAssembler(inputCols = ['heightMeters', 'apg', 'rpg'],\n",
    "                                  outputCol = 'features')\n",
    "va_df = vectorAssembler.transform(player_stats_spark_df)\n",
    "va_df = va_df.select(['features', 'pos_recoded_int'])\n",
    "va_df.show(5)"
   ]
  },
  {
   "cell_type": "markdown",
   "metadata": {
    "slideshow": {
     "slide_type": "subslide"
    }
   },
   "source": [
    "## Split training and validation sets with `randomSplit`"
   ]
  },
  {
   "cell_type": "code",
   "execution_count": 36,
   "metadata": {},
   "outputs": [],
   "source": [
    "splits = va_df.randomSplit([0.8, 0.2])\n",
    "train_df = splits[0]\n",
    "valid_df = splits[1]"
   ]
  },
  {
   "cell_type": "markdown",
   "metadata": {
    "slideshow": {
     "slide_type": "subslide"
    }
   },
   "source": [
    "## Initialize estimators"
   ]
  },
  {
   "cell_type": "code",
   "execution_count": 37,
   "metadata": {},
   "outputs": [],
   "source": [
    "from pyspark.ml.classification import LogisticRegression # in order not to mixed up with the one in sklearn\n",
    "\n",
    "logreg = LogisticRegression(featuresCol = 'features', labelCol='pos_recoded_int')"
   ]
  },
  {
   "cell_type": "markdown",
   "metadata": {
    "slideshow": {
     "slide_type": "subslide"
    }
   },
   "source": [
    "## Fit and inspect"
   ]
  },
  {
   "cell_type": "code",
   "execution_count": 38,
   "metadata": {},
   "outputs": [
    {
     "name": "stdout",
     "output_type": "stream",
     "text": [
      "DenseMatrix([[-37.99524881,   1.43140142,  -1.239212  ],\n",
      "             [  5.62556328,  -0.43689729,   0.34087919],\n",
      "             [ 32.36968554,  -0.99450414,   0.89833281]])\n"
     ]
    }
   ],
   "source": [
    "logreg_model = logreg.fit(train_df)\n",
    "print(logreg_model.coefficientMatrix)"
   ]
  },
  {
   "cell_type": "markdown",
   "metadata": {
    "slideshow": {
     "slide_type": "subslide"
    }
   },
   "source": [
    "## Evaluate performance on validation sets"
   ]
  },
  {
   "cell_type": "code",
   "execution_count": 39,
   "metadata": {},
   "outputs": [
    {
     "name": "stdout",
     "output_type": "stream",
     "text": [
      "0.7766990291262136\n"
     ]
    }
   ],
   "source": [
    "valid_result = logreg_model.evaluate(valid_df)\n",
    "print(valid_result.accuracy)"
   ]
  }
 ],
 "metadata": {
  "celltoolbar": "Slideshow",
  "kernelspec": {
   "display_name": "Python 3",
   "language": "python",
   "name": "python3"
  },
  "language_info": {
   "codemirror_mode": {
    "name": "ipython",
    "version": 3
   },
   "file_extension": ".py",
   "mimetype": "text/x-python",
   "name": "python",
   "nbconvert_exporter": "python",
   "pygments_lexer": "ipython3",
   "version": "3.8.5"
  }
 },
 "nbformat": 4,
 "nbformat_minor": 4
}
